{
 "cells": [
  {
   "cell_type": "code",
   "execution_count": null,
   "metadata": {},
   "outputs": [],
   "source": [
    "########################################################################################################################\n",
    "# Filename: Gradient_Boosted_Trees_Based_Models.ipynb\n",
    "#\n",
    "# Purpose: Multi-label Text-categorization via binary relevance, using gradient boosted trees as base classifiers\n",
    "#\n",
    "# Author(s): Bobby (Robert) Lumpkin\n",
    "#\n",
    "# Library Dependencies: numpy, pandas, scikit-learn\n",
    "########################################################################################################################"
   ]
  },
  {
   "cell_type": "code",
   "execution_count": 15,
   "metadata": {},
   "outputs": [],
   "source": [
    "import numpy as np \n",
    "import random\n",
    "import matplotlib.pyplot as plt\n",
    "import pandas as pd\n",
    "from lightgbm import LGBMClassifier\n",
    "from skmultilearn.problem_transform import BinaryRelevance\n",
    "from sklearn.ensemble import GradientBoostingClassifier\n",
    "from sklearn.model_selection import GridSearchCV\n",
    "from sklearn import metrics\n",
    "from joblib import dump, load\n",
    "import os\n",
    "os.chdir('C:\\\\Users\\\\rober\\\\OneDrive\\\\Documents\\\\Multilabel-Text-Classification\\\\Binary Relevance Models\\\\Gradient Boosted Tree Based')  \n",
    "## Replace above path with appropriate working directory\n",
    "import sys\n",
    "sys.path.append('../../ThresholdFunctionLearning')    ## Append path to the ThresholdFunctionLearning directory to the interpreters\n",
    "                                                   ## search path\n",
    "from threshold_learning import predict_test_labels_binary, predict_labels_binary    ## Import the 'predict_test_labels_binary()' function "
   ]
  },
  {
   "cell_type": "code",
   "execution_count": 62,
   "metadata": {},
   "outputs": [],
   "source": [
    "## Set config values\n",
    "path_to_sepPCs_data = '../../Data/tfidf_PC_separable.npz'\n",
    "path_to_encoded_data = '../../Data/tfidf_encoded_data.npz'\n",
    "path_to_prelim_sepPC_preds = 'Cache/GBT_based_prelim_preds.npz'\n",
    "path_to_prelim_encoded_preds = 'Cache/GBT_based_prelim_encoded_preds.npz'\n",
    "path_to_sepPC_gridSearch_object = 'Cache/sepPCs_gridSearch_object.joblib'\n",
    "path_to_encoded_gridSearch_object = 'Cache/encoded_gridSearch_object.joblib'"
   ]
  },
  {
   "cell_type": "markdown",
   "metadata": {},
   "source": [
    "# Multilabel Classification Using Binary Relevance Models\n",
    "\n",
    "Arguably, the most intuitive among multilabel modeling approaches is what's referred to as \"binary relevance\". This approach works by decomposing the multi-label learning task into a number of independent binary learning tasks (one per class label) (Zhang et al. [2018]). Binary Relevance methods are often criticized in the literature because of their label independence assumption, producing a potential weakness of ignoring correlations among labels (Luaces et al. [2012]). In this notebook, we'll explore binary relevance models built using differenct base classifiers. Later, in other notebooks, we'll train more novel approaches for comparison.\n",
    "\n",
    "For other base classifiers, one of which we consider in another notebook (kNN), we can consider different threshold function methods: constant vs. using a learned threshold function. Learning threshold functions has the advantage of allowing for different instances to possess different thresholds. This can be useful when a model either cannot consistenty separate true from false labels around a constant value OR when sufficient training is resource intensive. In many instances, a model may learn to separate true from false labels earlier in the training process than it learns to separate about a constant threshold. We do not apply these methods here, since we do not generate probability estimates.\n",
    "\n",
    "Additionally, each of the models will be trained using both the separable principal component scores and the autoencoder encodings derived in 'Preprocessing and Dimension Reduction/tfidf_Dimension_Reduction.ipynb'. Below, we'll load the data and compute one baseline for validating our models according to Hamming Loss. Namely, since our labels are sparse, we'll compute the validation Hamming Loss associated with a constant zero classifier."
   ]
  },
  {
   "cell_type": "code",
   "execution_count": 4,
   "metadata": {},
   "outputs": [],
   "source": [
    "## Load the 'separable' PC features\n",
    "npzfile = np.load(path_to_sepPCs_data)\n",
    "X_sepPCs_train = npzfile[\"X_sepPCs_train\"]\n",
    "X_sepPCs_test = npzfile[\"X_sepPCs_test\"]\n",
    "\n",
    "## Load the autoencoder encodings\n",
    "npzfile = np.load(path_to_encoded_data)\n",
    "encoded_train = npzfile[\"encoded_train\"]\n",
    "encoded_test = npzfile[\"encoded_test\"]\n",
    "\n",
    "## Load the labels\n",
    "Y_train = npzfile[\"Y_train\"]\n",
    "Y_test = npzfile[\"Y_test\"]"
   ]
  },
  {
   "cell_type": "code",
   "execution_count": 3,
   "metadata": {},
   "outputs": [
    {
     "data": {
      "text/plain": [
       "0.013779397151374627"
      ]
     },
     "execution_count": 3,
     "metadata": {},
     "output_type": "execute_result"
    }
   ],
   "source": [
    "## Compute the validation Hamming Loss for a constant zero classifier (used as silly baseline for sparse labels)\n",
    "prop_one_bpmll = np.sum(Y_test == 1) / (Y_test.shape[0] * Y_test.shape[1])\n",
    "prop_one_bpmll"
   ]
  },
  {
   "cell_type": "markdown",
   "metadata": {},
   "source": [
    "# Base Classifier: Gradient Boosted Decision Trees\n",
    "## PCA Features"
   ]
  },
  {
   "cell_type": "code",
   "execution_count": 51,
   "metadata": {},
   "outputs": [
    {
     "name": "stdout",
     "output_type": "stream",
     "text": [
      "The Hamming loss for the training data is 0.004\n",
      "The Hamming loss for the test data is 0.006\n"
     ]
    }
   ],
   "source": [
    "## Implement a binary relevance model using GBT classifiers (Naive approach to be compared with novel approaches, later)\n",
    "params = {'boosting_type':'gbdt', \n",
    "          'num_leaves':5, \n",
    "          'learning_rate':0.01, \n",
    "          'n_estimators':250}\n",
    "br_classifier = BinaryRelevance(\n",
    "    classifier = LGBMClassifier(**params)\n",
    ")\n",
    "\n",
    "#br_classifier.fit(X_sepPCs_train, Y_train)\n",
    "\n",
    "#br_train_preds = br_classifier.predict(X_sepPCs_train).toarray() ## -- Making predictions takes some time. \n",
    "#br_test_preds = br_classifier.predict(X_sepPCs_test).toarray()      ## Instead, load the predictions from 'SVM_based_preds.npz', on next line.\n",
    "\n",
    "npzfile = npzfile = np.load(path_to_prelim_sepPC_preds, allow_pickle = True)\n",
    "br_train_preds = npzfile[\"br_train_preds\"]\n",
    "br_test_preds = npzfile[\"br_test_preds\"]\n",
    "\n",
    "print (f\"The Hamming loss for the training data is {metrics.hamming_loss(Y_train, br_train_preds):.3f}\")\n",
    "print (f\"The Hamming loss for the test data is {metrics.hamming_loss(Y_test, br_test_preds):.3f}\")"
   ]
  },
  {
   "cell_type": "code",
   "execution_count": 50,
   "metadata": {},
   "outputs": [],
   "source": [
    "## (CAUTION: DO NOT OVERWRITE EXISTING FILES) -- Save the GBT based predictions\n",
    "#np.savez_compressed(path_to_prelim_sepPC_preds, \n",
    "#                    br_train_preds = br_train_preds,\n",
    "#                    br_test_preds = br_test_preds)"
   ]
  },
  {
   "cell_type": "code",
   "execution_count": 70,
   "metadata": {},
   "outputs": [],
   "source": [
    "%%capture\n",
    "random.seed(123)\n",
    "n_estimators_list = list(range(100, 500, 100))\n",
    "num_leaves_list = list(range(2, 6))\n",
    "learning_rate_list = [0.1, 0.01, 0.001]\n",
    "parameters_br = {'classifier' : [LGBMClassifier()],\n",
    "                 'classifier__n_estimators': n_estimators_list,\n",
    "                 'classifier__num_leaves' : num_leaves_list,\n",
    "                 'classifier__learning_rate' : learning_rate_list}  \n",
    "# By default, the Hamming loss as an option is not provided in the scoring string options. \n",
    "# So, we first define a Hamming loss scorer and use that. \n",
    "hamming_scorer = metrics.make_scorer(metrics.hamming_loss)\n",
    "\n",
    "#clf_br = GridSearchCV(BinaryRelevance(), parameters_br, scoring = hamming_scorer, cv = 5, verbose = 1)\n",
    "#clf_br.fit(X_sepPCs_train, Y_train) #-- To save time, load the pre-fit grid search object in the next line.\n",
    "clf_br = load(path_to_sepPC_gridSearch_object) "
   ]
  },
  {
   "cell_type": "code",
   "execution_count": 33,
   "metadata": {},
   "outputs": [
    {
     "data": {
      "text/plain": [
       "['Cache/sepPCs_gridSearch_object.joblib']"
      ]
     },
     "execution_count": 33,
     "metadata": {},
     "output_type": "execute_result"
    }
   ],
   "source": [
    "## (CAUTION: DO NOT OVERWRITE EXISTING FILES) -- Save the gbm based grid search object\n",
    "#dump(clf_br, path_to_sepPC_gridSearch_object, compress = 3) "
   ]
  },
  {
   "cell_type": "code",
   "execution_count": 71,
   "metadata": {},
   "outputs": [
    {
     "data": {
      "text/html": [
       "<div>\n",
       "<style scoped>\n",
       "    .dataframe tbody tr th:only-of-type {\n",
       "        vertical-align: middle;\n",
       "    }\n",
       "\n",
       "    .dataframe tbody tr th {\n",
       "        vertical-align: top;\n",
       "    }\n",
       "\n",
       "    .dataframe thead th {\n",
       "        text-align: right;\n",
       "    }\n",
       "</style>\n",
       "<table border=\"1\" class=\"dataframe\">\n",
       "  <thead>\n",
       "    <tr style=\"text-align: right;\">\n",
       "      <th></th>\n",
       "      <th>Params</th>\n",
       "      <th>Mean out-of-bag Hamming loss</th>\n",
       "    </tr>\n",
       "  </thead>\n",
       "  <tbody>\n",
       "    <tr>\n",
       "      <th>0</th>\n",
       "      <td>{'classifier': LGBMClassifier(learning_rate=0....</td>\n",
       "      <td>0.008212</td>\n",
       "    </tr>\n",
       "    <tr>\n",
       "      <th>1</th>\n",
       "      <td>{'classifier': LGBMClassifier(learning_rate=0....</td>\n",
       "      <td>0.010030</td>\n",
       "    </tr>\n",
       "    <tr>\n",
       "      <th>2</th>\n",
       "      <td>{'classifier': LGBMClassifier(learning_rate=0....</td>\n",
       "      <td>0.009279</td>\n",
       "    </tr>\n",
       "    <tr>\n",
       "      <th>3</th>\n",
       "      <td>{'classifier': LGBMClassifier(learning_rate=0....</td>\n",
       "      <td>0.009521</td>\n",
       "    </tr>\n",
       "    <tr>\n",
       "      <th>4</th>\n",
       "      <td>{'classifier': LGBMClassifier(learning_rate=0....</td>\n",
       "      <td>0.007633</td>\n",
       "    </tr>\n",
       "  </tbody>\n",
       "</table>\n",
       "</div>"
      ],
      "text/plain": [
       "                                              Params  \\\n",
       "0  {'classifier': LGBMClassifier(learning_rate=0....   \n",
       "1  {'classifier': LGBMClassifier(learning_rate=0....   \n",
       "2  {'classifier': LGBMClassifier(learning_rate=0....   \n",
       "3  {'classifier': LGBMClassifier(learning_rate=0....   \n",
       "4  {'classifier': LGBMClassifier(learning_rate=0....   \n",
       "\n",
       "   Mean out-of-bag Hamming loss  \n",
       "0                      0.008212  \n",
       "1                      0.010030  \n",
       "2                      0.009279  \n",
       "3                      0.009521  \n",
       "4                      0.007633  "
      ]
     },
     "metadata": {},
     "output_type": "display_data"
    },
    {
     "data": {
      "text/html": [
       "<div>\n",
       "<style scoped>\n",
       "    .dataframe tbody tr th:only-of-type {\n",
       "        vertical-align: middle;\n",
       "    }\n",
       "\n",
       "    .dataframe tbody tr th {\n",
       "        vertical-align: top;\n",
       "    }\n",
       "\n",
       "    .dataframe thead th {\n",
       "        text-align: right;\n",
       "    }\n",
       "</style>\n",
       "<table border=\"1\" class=\"dataframe\">\n",
       "  <thead>\n",
       "    <tr style=\"text-align: right;\">\n",
       "      <th></th>\n",
       "      <th>Params</th>\n",
       "      <th>Mean out-of-bag Hamming loss</th>\n",
       "    </tr>\n",
       "  </thead>\n",
       "  <tbody>\n",
       "    <tr>\n",
       "      <th>43</th>\n",
       "      <td>{'classifier': LGBMClassifier(learning_rate=0....</td>\n",
       "      <td>0.010493</td>\n",
       "    </tr>\n",
       "    <tr>\n",
       "      <th>44</th>\n",
       "      <td>{'classifier': LGBMClassifier(learning_rate=0....</td>\n",
       "      <td>0.010625</td>\n",
       "    </tr>\n",
       "    <tr>\n",
       "      <th>45</th>\n",
       "      <td>{'classifier': LGBMClassifier(learning_rate=0....</td>\n",
       "      <td>0.010385</td>\n",
       "    </tr>\n",
       "    <tr>\n",
       "      <th>46</th>\n",
       "      <td>{'classifier': LGBMClassifier(learning_rate=0....</td>\n",
       "      <td>0.010490</td>\n",
       "    </tr>\n",
       "    <tr>\n",
       "      <th>47</th>\n",
       "      <td>{'classifier': LGBMClassifier(learning_rate=0....</td>\n",
       "      <td>0.010333</td>\n",
       "    </tr>\n",
       "  </tbody>\n",
       "</table>\n",
       "</div>"
      ],
      "text/plain": [
       "                                               Params  \\\n",
       "43  {'classifier': LGBMClassifier(learning_rate=0....   \n",
       "44  {'classifier': LGBMClassifier(learning_rate=0....   \n",
       "45  {'classifier': LGBMClassifier(learning_rate=0....   \n",
       "46  {'classifier': LGBMClassifier(learning_rate=0....   \n",
       "47  {'classifier': LGBMClassifier(learning_rate=0....   \n",
       "\n",
       "    Mean out-of-bag Hamming loss  \n",
       "43                      0.010493  \n",
       "44                      0.010625  \n",
       "45                      0.010385  \n",
       "46                      0.010490  \n",
       "47                      0.010333  "
      ]
     },
     "metadata": {},
     "output_type": "display_data"
    },
    {
     "name": "stdout",
     "output_type": "stream",
     "text": [
      "Best parameters: {'classifier': LGBMClassifier(learning_rate=0.001, num_leaves=2), 'classifier__learning_rate': 0.01, 'classifier__n_estimators': 400, 'classifier__num_leaves': 5}. Best mean out-of-bag Hamming loss: 0.0051829494843017064\n"
     ]
    }
   ],
   "source": [
    "best_index_br = np.argmin(clf_br.cv_results_[\"mean_test_score\"])\n",
    "best_parameters_br = clf_br.cv_results_[\"params\"][best_index_br]\n",
    "\n",
    "df_CV_br = pd.DataFrame(columns=[\"Params\", \"Mean out-of-bag Hamming loss\"])\n",
    "df_CV_br[\"Params\"] = clf_br.cv_results_[\"params\"]\n",
    "df_CV_br[ \"Mean out-of-bag Hamming loss\"] = clf_br.cv_results_[\"mean_test_score\"]\n",
    "display(df_CV_br.head())\n",
    "display(df_CV_br.tail())\n",
    "print(f\"Best parameters: {best_parameters_br}. Best mean out-of-bag Hamming loss: {np.min(clf_br.cv_results_['mean_test_score'])}\")"
   ]
  },
  {
   "cell_type": "markdown",
   "metadata": {},
   "source": [
    "## ANN Autoencoder Features"
   ]
  },
  {
   "cell_type": "code",
   "execution_count": 56,
   "metadata": {},
   "outputs": [
    {
     "name": "stdout",
     "output_type": "stream",
     "text": [
      "The Hamming loss for the training data is 0.007\n",
      "The Hamming loss for the test data is 0.007\n"
     ]
    }
   ],
   "source": [
    "## Implement a binary relevance model using GBT classifiers (Naive approach to be compared with novel approaches, later)\n",
    "params = {'boosting_type':'gbdt', \n",
    "          'num_leaves':5, \n",
    "          'learning_rate':0.01, \n",
    "          'n_estimators':250}\n",
    "br_classifier = BinaryRelevance(\n",
    "    classifier = LGBMClassifier(**params)\n",
    ")\n",
    "\n",
    "#br_classifier.fit(encoded_train, Y_train)\n",
    "\n",
    "#br_train_preds = br_classifier.predict(encoded_train).toarray() ## -- Making predictions takes some time. \n",
    "#br_test_preds = br_classifier.predict(encoded_test).toarray()      ## Instead, load the predictions from 'SVM_based_preds.npz', on next line.\n",
    "\n",
    "npzfile = npzfile = np.load(path_to_prelim_encoded_preds, allow_pickle = True)\n",
    "br_train_preds = npzfile[\"br_train_preds\"]\n",
    "br_test_preds = npzfile[\"br_test_preds\"]\n",
    "\n",
    "print (f\"The Hamming loss for the training data is {metrics.hamming_loss(Y_train, br_train_preds):.3f}\")\n",
    "print (f\"The Hamming loss for the test data is {metrics.hamming_loss(Y_test, br_test_preds):.3f}\")"
   ]
  },
  {
   "cell_type": "code",
   "execution_count": 55,
   "metadata": {},
   "outputs": [],
   "source": [
    "## (CAUTION: DO NOT OVERWRITE EXISTING FILES) -- Save the GBT based predictions\n",
    "#np.savez_compressed(path_to_prelim_encoded_preds, \n",
    "#                    br_train_preds = br_train_preds,\n",
    "#                    br_test_preds = br_test_preds)"
   ]
  },
  {
   "cell_type": "code",
   "execution_count": 64,
   "metadata": {},
   "outputs": [],
   "source": [
    "%%capture\n",
    "random.seed(123)\n",
    "n_estimators_list = list(range(100, 500, 100))\n",
    "num_leaves_list = list(range(2, 6))\n",
    "learning_rate_list = [0.1, 0.01, 0.001]\n",
    "parameters_br = {'classifier' : [LGBMClassifier()],\n",
    "                 'classifier__n_estimators': n_estimators_list,\n",
    "                 'classifier__num_leaves' : num_leaves_list,\n",
    "                 'classifier__learning_rate' : learning_rate_list}  \n",
    "# By default, the Hamming loss as an option is not provided in the scoring string options. \n",
    "# So, we first define a Hamming loss scorer and use that. \n",
    "hamming_scorer = metrics.make_scorer(metrics.hamming_loss)\n",
    "\n",
    "#clf_br = GridSearchCV(BinaryRelevance(), parameters_br, scoring = hamming_scorer, cv = 5, verbose = 1)\n",
    "#clf_br.fit(encoded_train, Y_train) #-- To save time, load the pre-fit grid search object in the next line.\n",
    "clf_br = load(path_to_encoded_gridSearch_object) "
   ]
  },
  {
   "cell_type": "code",
   "execution_count": 63,
   "metadata": {},
   "outputs": [
    {
     "data": {
      "text/plain": [
       "['Cache/encoded_gridSearch_object.joblib']"
      ]
     },
     "execution_count": 63,
     "metadata": {},
     "output_type": "execute_result"
    }
   ],
   "source": [
    "## (CAUTION: DO NOT OVERWRITE EXISTING FILES) -- Save the gbm based grid search object\n",
    "dump(clf_br, path_to_encoded_gridSearch_object, compress = 3) "
   ]
  },
  {
   "cell_type": "code",
   "execution_count": 69,
   "metadata": {},
   "outputs": [
    {
     "data": {
      "text/html": [
       "<div>\n",
       "<style scoped>\n",
       "    .dataframe tbody tr th:only-of-type {\n",
       "        vertical-align: middle;\n",
       "    }\n",
       "\n",
       "    .dataframe tbody tr th {\n",
       "        vertical-align: top;\n",
       "    }\n",
       "\n",
       "    .dataframe thead th {\n",
       "        text-align: right;\n",
       "    }\n",
       "</style>\n",
       "<table border=\"1\" class=\"dataframe\">\n",
       "  <thead>\n",
       "    <tr style=\"text-align: right;\">\n",
       "      <th></th>\n",
       "      <th>Params</th>\n",
       "      <th>Mean out-of-bag Hamming loss</th>\n",
       "    </tr>\n",
       "  </thead>\n",
       "  <tbody>\n",
       "    <tr>\n",
       "      <th>0</th>\n",
       "      <td>{'classifier': LGBMClassifier(learning_rate=0....</td>\n",
       "      <td>0.007886</td>\n",
       "    </tr>\n",
       "    <tr>\n",
       "      <th>1</th>\n",
       "      <td>{'classifier': LGBMClassifier(learning_rate=0....</td>\n",
       "      <td>0.009978</td>\n",
       "    </tr>\n",
       "    <tr>\n",
       "      <th>2</th>\n",
       "      <td>{'classifier': LGBMClassifier(learning_rate=0....</td>\n",
       "      <td>0.010283</td>\n",
       "    </tr>\n",
       "    <tr>\n",
       "      <th>3</th>\n",
       "      <td>{'classifier': LGBMClassifier(learning_rate=0....</td>\n",
       "      <td>0.010044</td>\n",
       "    </tr>\n",
       "    <tr>\n",
       "      <th>4</th>\n",
       "      <td>{'classifier': LGBMClassifier(learning_rate=0....</td>\n",
       "      <td>0.007531</td>\n",
       "    </tr>\n",
       "  </tbody>\n",
       "</table>\n",
       "</div>"
      ],
      "text/plain": [
       "                                              Params  \\\n",
       "0  {'classifier': LGBMClassifier(learning_rate=0....   \n",
       "1  {'classifier': LGBMClassifier(learning_rate=0....   \n",
       "2  {'classifier': LGBMClassifier(learning_rate=0....   \n",
       "3  {'classifier': LGBMClassifier(learning_rate=0....   \n",
       "4  {'classifier': LGBMClassifier(learning_rate=0....   \n",
       "\n",
       "   Mean out-of-bag Hamming loss  \n",
       "0                      0.007886  \n",
       "1                      0.009978  \n",
       "2                      0.010283  \n",
       "3                      0.010044  \n",
       "4                      0.007531  "
      ]
     },
     "metadata": {},
     "output_type": "display_data"
    },
    {
     "data": {
      "text/html": [
       "<div>\n",
       "<style scoped>\n",
       "    .dataframe tbody tr th:only-of-type {\n",
       "        vertical-align: middle;\n",
       "    }\n",
       "\n",
       "    .dataframe tbody tr th {\n",
       "        vertical-align: top;\n",
       "    }\n",
       "\n",
       "    .dataframe thead th {\n",
       "        text-align: right;\n",
       "    }\n",
       "</style>\n",
       "<table border=\"1\" class=\"dataframe\">\n",
       "  <thead>\n",
       "    <tr style=\"text-align: right;\">\n",
       "      <th></th>\n",
       "      <th>Params</th>\n",
       "      <th>Mean out-of-bag Hamming loss</th>\n",
       "    </tr>\n",
       "  </thead>\n",
       "  <tbody>\n",
       "    <tr>\n",
       "      <th>43</th>\n",
       "      <td>{'classifier': LGBMClassifier(learning_rate=0....</td>\n",
       "      <td>0.010533</td>\n",
       "    </tr>\n",
       "    <tr>\n",
       "      <th>44</th>\n",
       "      <td>{'classifier': LGBMClassifier(learning_rate=0....</td>\n",
       "      <td>0.010681</td>\n",
       "    </tr>\n",
       "    <tr>\n",
       "      <th>45</th>\n",
       "      <td>{'classifier': LGBMClassifier(learning_rate=0....</td>\n",
       "      <td>0.010505</td>\n",
       "    </tr>\n",
       "    <tr>\n",
       "      <th>46</th>\n",
       "      <td>{'classifier': LGBMClassifier(learning_rate=0....</td>\n",
       "      <td>0.010440</td>\n",
       "    </tr>\n",
       "    <tr>\n",
       "      <th>47</th>\n",
       "      <td>{'classifier': LGBMClassifier(learning_rate=0....</td>\n",
       "      <td>0.010402</td>\n",
       "    </tr>\n",
       "  </tbody>\n",
       "</table>\n",
       "</div>"
      ],
      "text/plain": [
       "                                               Params  \\\n",
       "43  {'classifier': LGBMClassifier(learning_rate=0....   \n",
       "44  {'classifier': LGBMClassifier(learning_rate=0....   \n",
       "45  {'classifier': LGBMClassifier(learning_rate=0....   \n",
       "46  {'classifier': LGBMClassifier(learning_rate=0....   \n",
       "47  {'classifier': LGBMClassifier(learning_rate=0....   \n",
       "\n",
       "    Mean out-of-bag Hamming loss  \n",
       "43                      0.010533  \n",
       "44                      0.010681  \n",
       "45                      0.010505  \n",
       "46                      0.010440  \n",
       "47                      0.010402  "
      ]
     },
     "metadata": {},
     "output_type": "display_data"
    },
    {
     "name": "stdout",
     "output_type": "stream",
     "text": [
      "Best parameters: {'classifier': LGBMClassifier(learning_rate=0.001, num_leaves=2), 'classifier__learning_rate': 0.1, 'classifier__n_estimators': 400, 'classifier__num_leaves': 2}. Best mean out-of-bag Hamming loss: 0.007306763114876444\n"
     ]
    }
   ],
   "source": [
    "best_index_br = np.argmin(clf_br.cv_results_[\"mean_test_score\"])\n",
    "best_parameters_br = clf_br.cv_results_[\"params\"][best_index_br]\n",
    "\n",
    "df_CV_br = pd.DataFrame(columns=[\"Params\", \"Mean out-of-bag Hamming loss\"])\n",
    "df_CV_br[\"Params\"] = clf_br.cv_results_[\"params\"]\n",
    "df_CV_br[ \"Mean out-of-bag Hamming loss\"] = clf_br.cv_results_[\"mean_test_score\"]\n",
    "display(df_CV_br.head())\n",
    "display(df_CV_br.tail())\n",
    "print(f\"Best parameters: {best_parameters_br}. Best mean out-of-bag Hamming loss: {np.min(clf_br.cv_results_['mean_test_score'])}\")"
   ]
  }
 ],
 "metadata": {
  "kernelspec": {
   "display_name": "Python 3",
   "language": "python",
   "name": "python3"
  },
  "language_info": {
   "codemirror_mode": {
    "name": "ipython",
    "version": 3
   },
   "file_extension": ".py",
   "mimetype": "text/x-python",
   "name": "python",
   "nbconvert_exporter": "python",
   "pygments_lexer": "ipython3",
   "version": "3.8.5"
  }
 },
 "nbformat": 4,
 "nbformat_minor": 4
}
