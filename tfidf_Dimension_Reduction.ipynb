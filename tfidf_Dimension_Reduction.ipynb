{
 "cells": [
  {
   "cell_type": "code",
   "execution_count": null,
   "metadata": {},
   "outputs": [],
   "source": [
    "########################################################################################################################\n",
    "# Filename: tfidf_Dimension_Reduction.ipynb\n",
    "#\n",
    "# Purpose: Generate both liner and nonlinear, low dimensional representations of sparse tf-idf vectors.\n",
    "\n",
    "# Author(s): Bobby (Robert) Lumpkin, Archit Datar (PCA)\n",
    "#\n",
    "# Library Dependencies: numpy, pandas, scikit-learn\n",
    "########################################################################################################################"
   ]
  },
  {
   "cell_type": "markdown",
   "metadata": {},
   "source": [
    "# Dimension Reduction for Text Classification "
   ]
  },
  {
   "cell_type": "code",
   "execution_count": 2,
   "metadata": {},
   "outputs": [],
   "source": [
    "from sklearn.decomposition import PCA, IncrementalPCA\n",
    "import numpy as np \n",
    "import scipy\n",
    "import matplotlib.pyplot as plt\n",
    "import pandas as pd\n",
    "import os\n",
    "import random\n",
    "import json\n",
    "from joblib import dump, load\n",
    "import tensorflow as tf\n",
    "from tensorflow.keras.models import Model"
   ]
  },
  {
   "cell_type": "markdown",
   "metadata": {},
   "source": [
    "## Linear Representations (Principal Components Analysis)\n",
    "\n",
    "There are multiple approaches we could take towards determining the number of and which principal components to retain. We'll start by restricting consideration to the first PCs to cumulatively explain $80\\%$ of the variance. Then, among these PCs, we'll look for those that most lend themselves towards separating labels by considering the maximum (over labels) of the differences in mean scores between instances having a label and instances not. Then, we'll reduce our dataset to these selected PCs and save for future use."
   ]
  },
  {
   "cell_type": "code",
   "execution_count": 3,
   "metadata": {},
   "outputs": [],
   "source": [
    "## Load the data\n",
    "npzfile = np.load(\"Data/tfidf_trainTest_data.npz\")\n",
    "X_tfidfTrain = npzfile['X_tfidfTrain']\n",
    "X_tfidfTest = npzfile['X_tfidfTest']\n",
    "Y_tfidfTrain = npzfile['Y_tfidfTrain']\n",
    "Y_tfidfTest = npzfile['Y_tfidfTest']\n",
    "feature_names = npzfile['feature_names']\n",
    "\n",
    "file_object = open('Data/label_list.json',)\n",
    "label_list = json.load(file_object)"
   ]
  },
  {
   "cell_type": "code",
   "execution_count": 4,
   "metadata": {},
   "outputs": [
    {
     "data": {
      "text/plain": [
       "['Models/PCA_fit.joblib']"
      ]
     },
     "execution_count": 4,
     "metadata": {},
     "output_type": "execute_result"
    }
   ],
   "source": [
    "## (CAUTION: DO NOT OVERWRITE EXISTING FILES) -- Fit a PCA object to the training data & save the array of scores \n",
    "##                                               for the full set of PCs and the PCA object\n",
    "\n",
    "pca = PCA(n_components = min(X_tfidfTrain.shape[0], X_tfidfTrain.shape[1]))\n",
    "X_pcaTrain = pca.fit_transform(X_tfidfTrain)    ## This may take some time to run\n",
    "#outfile = \"Data/PC_scores_full\"\n",
    "#np.savez_compressed(outfile, X_pcaTrain = X_pcaTrain)\n",
    "\n",
    "# Save the PCA fit\n",
    "#dump(pca, 'PCA_Model/PCA_fit.joblib', compress = 3) \n",
    "#dump(pca, 'PCA_Model/PCA_fit.pkl.lzma', compress = 9)    ## save a compressed version"
   ]
  },
  {
   "cell_type": "code",
   "execution_count": 4,
   "metadata": {},
   "outputs": [],
   "source": [
    "## If files exist, load pre-fit and transformed PCA object and scores\n",
    "pca = load(\"PCA_Model/PCA_fit.joblib\")\n",
    "npzfile = np.load(\"Data/tfidf_PC_scores_full.npz\")\n",
    "X_pcaTrain = npzfile['X_pcaTrain']"
   ]
  },
  {
   "cell_type": "code",
   "execution_count": 9,
   "metadata": {},
   "outputs": [
    {
     "name": "stdout",
     "output_type": "stream",
     "text": [
      "Target cumulative variance:  0.80\n",
      "Number of principal components: 2647\n"
     ]
    },
    {
     "data": {
      "image/png": "[encoded data removed]",
      "text/plain": [
       "<Figure size 1008x432 with 2 Axes>"
      ]
     },
     "metadata": {
      "needs_background": "light"
     },
     "output_type": "display_data"
    }
   ],
   "source": [
    "## Generate scree & cumulative variance plots and save the fit PCA object as a .joblib doc\n",
    "PC_id = np.arange(pca.n_components_) + 1\n",
    "\n",
    "# Scree plot .\n",
    "fig = plt.figure(figsize=(14, 6))\n",
    "ax1 = fig.add_subplot(121)\n",
    "ax1.plot(PC_id, pca.explained_variance_ratio_, 'ro-', linewidth=2)\n",
    "ax1.set_xlabel(\"Principal components\")\n",
    "ax1.set_ylabel(\"Variance\")\n",
    "ax1.set_title(\"Scree Plot\", size = 20)\n",
    "\n",
    "# Cumulative variance plot\n",
    "cum_var = np.cumsum(pca.explained_variance_ratio_) #cumulative variance.\n",
    "target_cum_var = 0.8    # Target cumulative variance.\n",
    "PCs_retained = np.where(cum_var>target_cum_var)[0][0] + 1    # Number of principal components retained to explain target\n",
    "\n",
    "ax2 = fig.add_subplot(122)\n",
    "ax2.plot(PC_id, cum_var, 'ro-', linewidth=2)\n",
    "ax2.set_xlabel(\"Principal components\")\n",
    "ax2.set_ylabel(\"Cumulative Variance\")\n",
    "ax2.set_xlim()\n",
    "ax2.set_ylim()\n",
    "ax2.hlines(target_cum_var, ax2.get_xlim()[0], ax2.get_xlim()[1], linestyles = \"--\", colors = plt.cm.Greys(200))\n",
    "ax2.vlines(PCs_retained, ax2.get_ylim()[0], ax2.get_ylim()[1], linestyles = \"--\", colors = plt.cm.Greys(200))\n",
    "ax2.plot(PCs_retained, target_cum_var, color = 'dimgrey', marker = '*', markersize = 30)\n",
    "ax2.set_title(\"Cumulative Variance Explained\", size = 20)\n",
    "\n",
    "print(f\"Target cumulative variance: {target_cum_var: .2f}\")\n",
    "print(f\"Number of principal components: {PCs_retained}\")\n",
    "\n",
    "PC_list = [f\"PC-{comp}\" for comp in np.arange(1, PCs_retained+1)]\n",
    "PC_scores_cumVar = X_pcaTrain[:, 0 : PCs_retained]"
   ]
  },
  {
   "cell_type": "code",
   "execution_count": 10,
   "metadata": {},
   "outputs": [],
   "source": [
    "## Create dataframes with PC scores and labels for training and test data\n",
    "df_train_features = pd.DataFrame(PC_scores_cumVar, columns = PC_list)\n",
    "df_train_labels = pd.DataFrame(Y_tfidfTrain, columns = label_list)\n",
    "df_test_features = pd.DataFrame(pca.transform(X_tfidfTest)[:, 0 : PCs_retained], columns = PC_list)\n",
    "df_test_labels = pd.DataFrame(Y_tfidfTest, columns = label_list)"
   ]
  },
  {
   "cell_type": "code",
   "execution_count": 13,
   "metadata": {},
   "outputs": [
    {
     "name": "stdout",
     "output_type": "stream",
     "text": [
      "Number of principal components with max absolute difference (between 1 and 0 label means) above cutoff 0.1 : 33\n"
     ]
    },
    {
     "data": {
      "text/plain": [
       "Text(0, 0.5, 'Frequency')"
      ]
     },
     "execution_count": 13,
     "metadata": {},
     "output_type": "execute_result"
    },
    {
     "data": {
      "image/png": "[encoded data removed]",
      "text/plain": [
       "<Figure size 1008x432 with 2 Axes>"
      ]
     },
     "metadata": {
      "needs_background": "light"
     },
     "output_type": "display_data"
    }
   ],
   "source": [
    "## For each label, check the absolute differences in the means for scores corresponding to 1-instances and scores \n",
    "## corresponding to 0-instances. Retain only PCs that sufficiently allow for separation of labels\n",
    "\n",
    "# New dataframe storing the rows as the principal components and columns as the labels with values \n",
    "# indicating the difference between the positive and negative means.\n",
    "df_diff = pd.DataFrame(index = PC_list, columns = label_list)\n",
    "for label in label_list:\n",
    "    df_diff[label] = df_train_features.loc[df_train_labels[label] == 1, PC_list].mean(axis = 0).values - \\\n",
    "                                df_train_features.loc[df_train_labels[label] == 0, PC_list].mean(axis = 0).values\n",
    "df_diff[\"mod_max_diff\"] = np.abs(df_diff[label_list]).max(axis = 1)\n",
    "\n",
    "target_difference_cutoff = 0.1 \n",
    "num_sepPCs = df_diff[df_diff['mod_max_diff'] >= target_difference_cutoff].shape[0]\n",
    "print(\"Number of principal components with max absolute difference (between 1 and 0 label means) above cutoff \" + \n",
    "      f\"{target_difference_cutoff} : {num_sepPCs}\")\n",
    "\n",
    "separable_PC_list = df_diff.loc[df_diff['mod_max_diff'] >= target_difference_cutoff].index.values\n",
    "\n",
    "# Plotting the principal components' max absolute differences\n",
    "fig = plt.figure(figsize=(14,6))\n",
    "ax = fig.add_subplot(121)\n",
    "ax.scatter(np.arange(1, df_diff.shape[0]+1), df_diff[\"mod_max_diff\"])\n",
    "ax.set_xlabel(\"Principal components\")\n",
    "ax.set_ylabel(\"Max absolute difference between 1 and 0 means\")\n",
    "ax.set_xlim()\n",
    "ax.hlines(target_difference_cutoff, ax.get_xlim()[0], ax.get_xlim()[1], linestyles=\"--\", color=plt.cm.Greys(200))\n",
    "\n",
    "ax2 = fig.add_subplot(122)\n",
    "ax2.hist(df_diff[\"mod_max_diff\"])\n",
    "ax2.set_xlabel(\"Max absolute difference between 0 and 1 means\")\n",
    "ax2.set_ylabel(\"Frequency\")"
   ]
  },
  {
   "cell_type": "code",
   "execution_count": 12,
   "metadata": {},
   "outputs": [],
   "source": [
    "## (CAUTION: DO NOT OVERWRITE EXISTING FILES) -- Define and save the separable PC scores for the training and test data\n",
    "X_sepPCs_train = df_train_features[separable_PC_list].values\n",
    "Y_train = df_train_labels[label_list].values\n",
    "X_sepPCs_test = df_test_features[separable_PC_list].values\n",
    "Y_test = df_test_labels[label_list].values\n",
    "\n",
    "outfile = \"Data/tfidf_PC_separable.npz\"\n",
    "#np.savez_compressed(outfile, X_sepPCs_train = X_sepPCs_train, \n",
    "#                             X_sepPCs_test = X_sepPCs_test, \n",
    "#                             Y_train = Y_train, \n",
    "#                             Y_test = Y_test,\n",
    "#                             separable_PC_list = separable_PC_list)\n"
   ]
  },
  {
   "cell_type": "markdown",
   "metadata": {},
   "source": [
    "## Nonlinear Representations (ANN Autoencoder)"
   ]
  },
  {
   "cell_type": "code",
   "execution_count": 33,
   "metadata": {},
   "outputs": [],
   "source": [
    "latent_dim = num_sepPCs\n",
    "visible_dim = feature_names.shape[0]\n",
    "\n",
    "class Autoencoder(Model):\n",
    "    def __init__(self, latent_dim, visible_dim):\n",
    "        super(Autoencoder, self).__init__()\n",
    "        self.latent_dim = latent_dim   \n",
    "        self.encoder = tf.keras.Sequential([\n",
    "            tf.keras.layers.Dense(latent_dim * 2, activation = 'tanh'),\n",
    "            tf.keras.layers.Dense(latent_dim, activation = 'relu'),\n",
    "        ])\n",
    "        self.decoder = tf.keras.Sequential([\n",
    "            tf.keras.layers.Dense(latent_dim * 2, activation = 'sigmoid'),\n",
    "            tf.keras.layers.Dense(visible_dim, activation = 'relu'),\n",
    "        ])\n",
    "\n",
    "    def call(self, x):\n",
    "        encoded = self.encoder(x)\n",
    "        decoded = self.decoder(encoded)\n",
    "        return decoded\n",
    "\n",
    "autoencoder = Autoencoder(latent_dim, visible_dim)"
   ]
  },
  {
   "cell_type": "code",
   "execution_count": 34,
   "metadata": {},
   "outputs": [],
   "source": [
    "autoencoder.compile(optimizer = 'adam', loss = tf.keras.losses.MeanSquaredError())"
   ]
  },
  {
   "cell_type": "code",
   "execution_count": 35,
   "metadata": {},
   "outputs": [
    {
     "name": "stdout",
     "output_type": "stream",
     "text": [
      "Epoch 1/10\n",
      "243/243 [==============================] - 20s 77ms/step - loss: 3.5516e-05 - val_loss: 1.9507e-05\n",
      "Epoch 2/10\n",
      "243/243 [==============================] - 11s 47ms/step - loss: 1.9504e-05 - val_loss: 1.9523e-05\n",
      "Epoch 3/10\n",
      "243/243 [==============================] - 11s 46ms/step - loss: 1.9521e-05 - val_loss: 1.9536e-05\n",
      "Epoch 4/10\n",
      "243/243 [==============================] - 12s 50ms/step - loss: 1.9525e-05 - val_loss: 1.9534e-05\n",
      "Epoch 5/10\n",
      "243/243 [==============================] - 13s 53ms/step - loss: 1.9531e-05 - val_loss: 1.9547e-05\n",
      "Epoch 6/10\n",
      "243/243 [==============================] - 12s 48ms/step - loss: 1.9536e-05 - val_loss: 1.9536e-05\n",
      "Epoch 7/10\n",
      "243/243 [==============================] - 12s 47ms/step - loss: 1.9535e-05 - val_loss: 1.9537e-05\n",
      "Epoch 8/10\n",
      "243/243 [==============================] - 11s 46ms/step - loss: 1.9537e-05 - val_loss: 1.9533e-05\n",
      "Epoch 9/10\n",
      "243/243 [==============================] - 11s 46ms/step - loss: 1.9534e-05 - val_loss: 1.9534e-05\n",
      "Epoch 10/10\n",
      "243/243 [==============================] - 11s 45ms/step - loss: 1.9537e-05 - val_loss: 1.9532e-05\n"
     ]
    },
    {
     "data": {
      "text/plain": [
       "<tensorflow.python.keras.callbacks.History at 0x1b5048796a0>"
      ]
     },
     "execution_count": 35,
     "metadata": {},
     "output_type": "execute_result"
    }
   ],
   "source": [
    "tf.random.set_seed(123)\n",
    "autoencoder.fit(X_tfidfTrain, X_tfidfTrain,\n",
    "                epochs = 10,\n",
    "                shuffle = True,\n",
    "                validation_data = (X_tfidfTest, X_tfidfTest))"
   ]
  },
  {
   "cell_type": "code",
   "execution_count": 67,
   "metadata": {},
   "outputs": [],
   "source": [
    "## (CAUTION: DO NOT OVERWRITE EXISTING FILES) -- Get and save encodings for the training/test data \n",
    "encoded_train = autoencoder.encoder(X_tfidfTrain).numpy()\n",
    "encoded_test = autoencoder.encoder(X_tfidfTest).numpy()\n",
    "\n",
    "outfile = \"Data/tfidf_encoded_data.npz\"\n",
    "#np.savez_compressed(outfile, encoded_train = encoded_train,\n",
    "#                    encoded_test = encoded_test,\n",
    "#                    Y_train = Y_tfidfTrain,\n",
    "#                    Y_test = Y_tfidfTest)"
   ]
  }
 ],
 "metadata": {
  "kernelspec": {
   "display_name": "Python 3",
   "language": "python",
   "name": "python3"
  },
  "language_info": {
   "codemirror_mode": {
    "name": "ipython",
    "version": 3
   },
   "file_extension": ".py",
   "mimetype": "text/x-python",
   "name": "python",
   "nbconvert_exporter": "python",
   "pygments_lexer": "ipython3",
   "version": "3.8.5"
  }
 },
 "nbformat": 4,
 "nbformat_minor": 4
}
