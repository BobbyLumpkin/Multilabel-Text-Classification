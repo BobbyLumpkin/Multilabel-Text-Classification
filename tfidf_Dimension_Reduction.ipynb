{
 "cells": [
  {
   "cell_type": "code",
   "execution_count": null,
   "metadata": {},
   "outputs": [],
   "source": [
    "########################################################################################################################\n",
    "# Filename: tfidf_Dimension_Reduction.ipynb\n",
    "#\n",
    "# Purpose: Generate both liner and nonlinear, low dimensional representations of sparse tf-idf vectors.\n",
    "\n",
    "# Author(s): Bobby (Robert) Lumpkin, Archit Datar (PCA)\n",
    "#\n",
    "# Library Dependencies: numpy, pandas, scikit-learn\n",
    "########################################################################################################################"
   ]
  },
  {
   "cell_type": "markdown",
   "metadata": {},
   "source": [
    "# Dimension Reduction for Text Classification "
   ]
  },
  {
   "cell_type": "code",
   "execution_count": 43,
   "metadata": {},
   "outputs": [],
   "source": [
    "from sklearn.decomposition import PCA, IncrementalPCA\n",
    "import numpy as np \n",
    "import scipy\n",
    "import matplotlib.pyplot as plt\n",
    "import pandas as pd\n",
    "import os\n",
    "import random\n",
    "from joblib import dump, load\n",
    "import tensorflow as tf\n",
    "from tensorflow.keras.models import Model"
   ]
  },
  {
   "cell_type": "markdown",
   "metadata": {},
   "source": [
    "## Linear Representations (Principal Components Analysis)\n",
    "\n",
    "There are multiple approaches we could take towards determining the number of appropriate principal components to retain. One approach requires a certain proportion of explained variance. Another, sets a maximum acceptable dimension for dimension reduction purposes. \n",
    "Another yet, involves treating the number of PCs as a hyperparameter and choosing a value via grid search. Since we plan to train multiple different models, we'll only try use the first two approaches throughout this project, for the sake of brevity."
   ]
  },
  {
   "cell_type": "code",
   "execution_count": 2,
   "metadata": {},
   "outputs": [],
   "source": [
    "## Load the data\n",
    "npzfile = np.load(\"Data/tfidf_trainTest_data.npz\")\n",
    "X_tfidfTrain = npzfile['X_tfidfTrain']\n",
    "X_tfidfTest = npzfile['X_tfidfTest']\n",
    "Y_tfidfTrain = npzfile['Y_tfidfTrain']\n",
    "Y_tfidfTest = npzfile['Y_tfidfTest']\n",
    "feature_names = npzfile['feature_names']"
   ]
  },
  {
   "cell_type": "code",
   "execution_count": 3,
   "metadata": {},
   "outputs": [],
   "source": [
    "## (CAUTION: NO NEED TO RUN. LOAD DATA IN NEXT CELL) -- Fit a PCA object to the training data and save the array of coordinates \n",
    "##                                                      for the full set of PCs\n",
    "#pca = PCA(n_components = min(X_tfidfTrain.shape[0], X_tfidfTrain.shape[1]))\n",
    "#X_pcaTrain = pca.fit_transform(X_tfidfTrain)\n",
    "#outfile = \"Data/PC_scores_full\"\n",
    "#np.savez_compressed(outfile, X_pcaTrain = X_pcaTrain)"
   ]
  },
  {
   "cell_type": "code",
   "execution_count": 78,
   "metadata": {},
   "outputs": [],
   "source": [
    "## If needed, load pre-fit and transformed PCA object and scores\n",
    "pca = load(\"Models/PCA_fit.joblib\")\n",
    "npzfile = np.load(\"Data/PC_scores_full.npz\")\n",
    "X_pcaTrain = npzfile['X_pcaTrain']"
   ]
  },
  {
   "cell_type": "code",
   "execution_count": 79,
   "metadata": {},
   "outputs": [
    {
     "name": "stdout",
     "output_type": "stream",
     "text": [
      "Target cumulative variance:  0.60\n",
      "Number of principal components: 1084\n",
      "Maximum number of permissible PCs: 50\n",
      "Cumulative variance using 50 PCs:  0.19\n"
     ]
    },
    {
     "data": {
      "image/png": "[encoded data removed]",
      "text/plain": [
       "<Figure size 1008x432 with 2 Axes>"
      ]
     },
     "metadata": {
      "needs_background": "light"
     },
     "output_type": "display_data"
    }
   ],
   "source": [
    "## Generate scree & cumulative variance plots and save the fit PCA object as a .joblib doc\n",
    "PC_id = np.arange(pca.n_components_) + 1\n",
    "\n",
    "# Scree plot .\n",
    "fig = plt.figure(figsize=(14, 6))\n",
    "ax1 = fig.add_subplot(121)\n",
    "ax1.plot(PC_id, pca.explained_variance_ratio_, 'ro-', linewidth=2)\n",
    "ax1.set_xlabel(\"Principal components\")\n",
    "ax1.set_ylabel(\"Variance\")\n",
    "ax1.set_title(\"Scree Plot\", size = 20)\n",
    "\n",
    "# Cumulative variance plot\n",
    "cum_var = np.cumsum(pca.explained_variance_ratio_) #cumulative variance.\n",
    "target_cum_var = 0.6    # Target cumulative variance.\n",
    "PCs_retained = np.where(cum_var>target_cum_var)[0][0] + 1    # Number of principal components retained to explain target\n",
    "max_numPCs = 50    # Maximum number of PCs to be considered\n",
    "\n",
    "ax2 = fig.add_subplot(122)\n",
    "ax2.plot(PC_id, cum_var, 'ro-', linewidth=2)\n",
    "ax2.set_xlabel(\"Principal components\")\n",
    "ax2.set_ylabel(\"Cumulative Variance\")\n",
    "ax2.set_xlim()\n",
    "ax2.set_ylim()\n",
    "ax2.hlines(target_cum_var, ax2.get_xlim()[0], ax2.get_xlim()[1], linestyles = \"--\", colors = plt.cm.Greys(200))\n",
    "ax2.hlines(cum_var[max_numPCs - 1], ax2.get_xlim()[0], ax2.get_xlim()[1], linestyles = \"--\", colors = plt.cm.Greens(200))\n",
    "ax2.vlines(PCs_retained, ax2.get_ylim()[0], ax2.get_ylim()[1], linestyles = \"--\", colors = plt.cm.Greys(200))\n",
    "ax2.vlines(max_numPCs, ax2.get_ylim()[0], ax2.get_ylim()[1], linestyles = \"--\", colors = plt.cm.Greens(200))\n",
    "ax2.plot(PCs_retained, target_cum_var, color = 'dimgrey', marker = '*', markersize = 30)\n",
    "ax2.plot(max_numPCs, cum_var[max_numPCs - 1], 'g*', markersize = 30)\n",
    "ax2.set_title(\"Cumulative Variance Explained\", size = 20)\n",
    "\n",
    "# (CAUTION: DO NOT OVERWRITE EXISTING FILES) -- Save the PCA fit\n",
    "#dump(pca, 'Models/PCA_fit.joblib') \n",
    "\n",
    "print(f\"Target cumulative variance: {target_cum_var: .2f}\")\n",
    "print(f\"Number of principal components: {PCs_retained}\")\n",
    "print(f\"Maximum number of permissible PCs: {max_numPCs}\")\n",
    "print(f\"Cumulative variance using {max_numPCs} PCs: {cum_var[max_numPCs - 1]: .2f}\")"
   ]
  },
  {
   "cell_type": "code",
   "execution_count": 74,
   "metadata": {},
   "outputs": [],
   "source": [
    "## (CAUTION: DO NOT OVERWRITE EXISTING FILES) -- Save the PC scores for both approaches\n",
    "PC_scores_maxNum = X_pcaTrain[:, 0 : max_numPCs]\n",
    "PC_scores_cumVar = X_pcaTrain[:, 0 : PCs_retained]\n",
    "\n",
    "outfile = \"Data/PC_scores_reduced.npz\"\n",
    "#np.savez_compressed(outfile, PC_scores_maxNum = PC_scores_maxNum, \n",
    "#                             PC_scores_cumVar = PC_scores_cumVar)"
   ]
  },
  {
   "cell_type": "markdown",
   "metadata": {},
   "source": [
    "## Nonlinear Representations (ANN Autoencoder)"
   ]
  }
 ],
 "metadata": {
  "kernelspec": {
   "display_name": "Python 3",
   "language": "python",
   "name": "python3"
  },
  "language_info": {
   "codemirror_mode": {
    "name": "ipython",
    "version": 3
   },
   "file_extension": ".py",
   "mimetype": "text/x-python",
   "name": "python",
   "nbconvert_exporter": "python",
   "pygments_lexer": "ipython3",
   "version": "3.8.5"
  }
 },
 "nbformat": 4,
 "nbformat_minor": 4
}
