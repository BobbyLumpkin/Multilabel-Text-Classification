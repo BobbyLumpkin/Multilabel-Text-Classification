{
 "cells": [
  {
   "cell_type": "code",
   "execution_count": null,
   "metadata": {},
   "outputs": [],
   "source": [
    "########################################################################################################################\n",
    "# Filename: ML-kNN_Models.ipynb\n",
    "#\n",
    "# Purpose: Multi-label Text-categorization via an algorithmic adaptation of the k-nearest-neighbors\n",
    "#          algorithm -- ML-kNN\n",
    "\n",
    "# Author(s): Archit Datar, Laren Contard, Bobby (Robert) Lumpkin\n",
    "#\n",
    "# Library Dependencies: numpy, pandas, scikit-learn, skmultilearn, joblib, os, sys, threshold_learning\n",
    "########################################################################################################################"
   ]
  },
  {
   "cell_type": "markdown",
   "metadata": {},
   "source": [
    "# Novel Algorithmic Adaptations for Multilabel Learning"
   ]
  },
  {
   "cell_type": "code",
   "execution_count": 24,
   "metadata": {},
   "outputs": [],
   "source": [
    "import numpy as np \n",
    "import matplotlib.pyplot as plt\n",
    "import pandas as pd\n",
    "from skmultilearn.adapt import MLkNN\n",
    "from sklearn import metrics\n",
    "from sklearn.model_selection import GridSearchCV\n",
    "from joblib import dump, load\n",
    "import os\n",
    "os.chdir('C:\\\\Users\\\\rober\\\\OneDrive\\\\Documents\\\\Multilabel-Text-Classification\\\\Novel Algorithmic Adaptations\\\\ML-kNN')  \n",
    "## Replace with above path with appropriate working directory\n",
    "import sys\n",
    "sys.path.append('../../ThresholdFunctionLearning')    ## Append path to the ThresholdFunctionLearning directory to the interpreters\n",
    "                                                   ## search path\n",
    "from threshold_learning import predict_test_labels_binary, predict_labels_binary    ## Import the 'predict_test_labels_binary()' function "
   ]
  },
  {
   "cell_type": "markdown",
   "metadata": {},
   "source": [
    "# ML-kNN Models\n",
    "## PCA Features"
   ]
  },
  {
   "cell_type": "code",
   "execution_count": 5,
   "metadata": {},
   "outputs": [],
   "source": [
    "## Load the 'separable' PC features\n",
    "npzfile = np.load(\"../../Data/tfidf_PC_separable.npz\")\n",
    "X_sepPCs_train = npzfile[\"X_sepPCs_train\"]\n",
    "X_sepPCs_test = npzfile[\"X_sepPCs_test\"]\n",
    "\n",
    "## Load the autoencoder encodings\n",
    "npzfile = np.load(\"../../Data/tfidf_encoded_data.npz\")\n",
    "encoded_train = npzfile[\"encoded_train\"]\n",
    "encoded_test = npzfile[\"encoded_test\"]\n",
    "\n",
    "## Load the labels\n",
    "Y_train = npzfile[\"Y_train\"]\n",
    "Y_test = npzfile[\"Y_test\"]"
   ]
  },
  {
   "cell_type": "code",
   "execution_count": 6,
   "metadata": {},
   "outputs": [
    {
     "data": {
      "text/plain": [
       "0.013779397151374627"
      ]
     },
     "execution_count": 6,
     "metadata": {},
     "output_type": "execute_result"
    }
   ],
   "source": [
    "## Compute the validation Hamming Loss for a constant zero classifier (used as silly baseline for sparse labels)\n",
    "prop_one_bpmll = np.sum(Y_test == 1) / (Y_test.shape[0] * Y_test.shape[1])\n",
    "prop_one_bpmll"
   ]
  },
  {
   "cell_type": "code",
   "execution_count": 14,
   "metadata": {},
   "outputs": [
    {
     "name": "stdout",
     "output_type": "stream",
     "text": [
      "The Hamming loss for the training data is 0.003\n",
      "The Hamming loss for the test data is 0.005\n"
     ]
    }
   ],
   "source": [
    "## Fit the ML-kNN model to the separable PCs dataset and evaluate the train/test set hamming loss \n",
    "## (This can take some time -- Can read in predictions from 'MLkNN_based_preds' instead)\n",
    "classifier = MLkNN(k = 3)\n",
    "#classifier.fit(X_sepPCs_train, Y_train)\n",
    "#Y_train_pred = classifier.predict(X_sepPCs_train)\n",
    "#Y_train_pred_array = Y_train_pred.toarray()\n",
    "#Y_test_pred = classifier.predict(X_sepPCs_test)\n",
    "#Y_test_pred_array = Y_test_pred.toarray()\n",
    "\n",
    "npzfile = npzfile = np.load(\"MLkNN_based_preds.npz\", allow_pickle = True)\n",
    "Y_train_pred_array = npzfile[\"Y_train_pred_array\"]\n",
    "Y_test_pred_array = npzfile[\"Y_test_pred_array\"]\n",
    "\n",
    "print (f\"The Hamming loss for the training data is {metrics.hamming_loss(Y_train, Y_train_pred_array):.3f}\")\n",
    "print (f\"The Hamming loss for the test data is {metrics.hamming_loss(Y_test, Y_test_pred_array):.3f}\")"
   ]
  },
  {
   "cell_type": "code",
   "execution_count": 13,
   "metadata": {},
   "outputs": [],
   "source": [
    "## (CAUTION: DO NOT OVERWRITE EXISTING FILES) -- Save the ML-kNN based predictions\n",
    "outfile = \"MLkNN_based_preds.npz\"\n",
    "np.savez_compressed(outfile, Y_train_pred_array = Y_train_pred_array,\n",
    "                             Y_test_pred_array = Y_test_pred_array)"
   ]
  },
  {
   "cell_type": "code",
   "execution_count": 17,
   "metadata": {},
   "outputs": [],
   "source": [
    "%%capture\n",
    "## Perform cross-validation on a grid search to tune hyperparameters 'k' & 's'\n",
    "## (This can take a long time -- Load the fit GridSearch object instead)\n",
    "clf = load('clf_MLkNN_gridSearch_object.joblib')\n",
    "#k_list = list(range(3, 16, 3))\n",
    "#k_list.insert(0, 1)\n",
    "#parameters = {'k': k_list, 's': [1.0, 1.5, 2.5, 5.0, 10.0]}  \n",
    "#By default, the Hamming loss as an option is not provided in the scoring string options. So, we will make the Hamming loss funciton as a scorer and use that. \n",
    "#hamming_scorer = metrics.make_scorer(metrics.hamming_loss)\n",
    "\n",
    "#clf = GridSearchCV(MLkNN(), parameters, scoring = hamming_scorer, cv = 5, verbose = 1)\n",
    "#clf.fit(X_sepPCs_train, Y_train)"
   ]
  },
  {
   "cell_type": "code",
   "execution_count": 12,
   "metadata": {},
   "outputs": [
    {
     "data": {
      "text/plain": [
       "['clf_MLkNN_gridSearch_object.joblib']"
      ]
     },
     "execution_count": 12,
     "metadata": {},
     "output_type": "execute_result"
    }
   ],
   "source": [
    "## (CAUTION: DO NOT OVERWRITE EXISTING FILES) -- Save the kNN based grid search object\n",
    "outfile = \"clf_MLkNN_gridSearch_object.joblib\"\n",
    "#dump(clf, outfile, compress = 3) "
   ]
  },
  {
   "cell_type": "code",
   "execution_count": 18,
   "metadata": {
    "collapsed": true,
    "jupyter": {
     "outputs_hidden": true
    }
   },
   "outputs": [
    {
     "data": {
      "text/html": [
       "<div>\n",
       "<style scoped>\n",
       "    .dataframe tbody tr th:only-of-type {\n",
       "        vertical-align: middle;\n",
       "    }\n",
       "\n",
       "    .dataframe tbody tr th {\n",
       "        vertical-align: top;\n",
       "    }\n",
       "\n",
       "    .dataframe thead th {\n",
       "        text-align: right;\n",
       "    }\n",
       "</style>\n",
       "<table border=\"1\" class=\"dataframe\">\n",
       "  <thead>\n",
       "    <tr style=\"text-align: right;\">\n",
       "      <th></th>\n",
       "      <th>Params</th>\n",
       "      <th>Mean out-of-bag Hamming loss</th>\n",
       "    </tr>\n",
       "  </thead>\n",
       "  <tbody>\n",
       "    <tr>\n",
       "      <th>0</th>\n",
       "      <td>{'k': 1, 's': 1.0}</td>\n",
       "      <td>0.005997</td>\n",
       "    </tr>\n",
       "    <tr>\n",
       "      <th>1</th>\n",
       "      <td>{'k': 1, 's': 1.5}</td>\n",
       "      <td>0.005997</td>\n",
       "    </tr>\n",
       "    <tr>\n",
       "      <th>2</th>\n",
       "      <td>{'k': 1, 's': 2.5}</td>\n",
       "      <td>0.005990</td>\n",
       "    </tr>\n",
       "    <tr>\n",
       "      <th>3</th>\n",
       "      <td>{'k': 1, 's': 5.0}</td>\n",
       "      <td>0.005962</td>\n",
       "    </tr>\n",
       "    <tr>\n",
       "      <th>4</th>\n",
       "      <td>{'k': 1, 's': 10.0}</td>\n",
       "      <td>0.005912</td>\n",
       "    </tr>\n",
       "    <tr>\n",
       "      <th>5</th>\n",
       "      <td>{'k': 3, 's': 1.0}</td>\n",
       "      <td>0.004827</td>\n",
       "    </tr>\n",
       "    <tr>\n",
       "      <th>6</th>\n",
       "      <td>{'k': 3, 's': 1.5}</td>\n",
       "      <td>0.004790</td>\n",
       "    </tr>\n",
       "    <tr>\n",
       "      <th>7</th>\n",
       "      <td>{'k': 3, 's': 2.5}</td>\n",
       "      <td>0.004783</td>\n",
       "    </tr>\n",
       "    <tr>\n",
       "      <th>8</th>\n",
       "      <td>{'k': 3, 's': 5.0}</td>\n",
       "      <td>0.004793</td>\n",
       "    </tr>\n",
       "    <tr>\n",
       "      <th>9</th>\n",
       "      <td>{'k': 3, 's': 10.0}</td>\n",
       "      <td>0.004807</td>\n",
       "    </tr>\n",
       "    <tr>\n",
       "      <th>10</th>\n",
       "      <td>{'k': 6, 's': 1.0}</td>\n",
       "      <td>0.004752</td>\n",
       "    </tr>\n",
       "    <tr>\n",
       "      <th>11</th>\n",
       "      <td>{'k': 6, 's': 1.5}</td>\n",
       "      <td>0.004731</td>\n",
       "    </tr>\n",
       "    <tr>\n",
       "      <th>12</th>\n",
       "      <td>{'k': 6, 's': 2.5}</td>\n",
       "      <td>0.004705</td>\n",
       "    </tr>\n",
       "    <tr>\n",
       "      <th>13</th>\n",
       "      <td>{'k': 6, 's': 5.0}</td>\n",
       "      <td>0.004788</td>\n",
       "    </tr>\n",
       "    <tr>\n",
       "      <th>14</th>\n",
       "      <td>{'k': 6, 's': 10.0}</td>\n",
       "      <td>0.004951</td>\n",
       "    </tr>\n",
       "    <tr>\n",
       "      <th>15</th>\n",
       "      <td>{'k': 9, 's': 1.0}</td>\n",
       "      <td>0.004831</td>\n",
       "    </tr>\n",
       "    <tr>\n",
       "      <th>16</th>\n",
       "      <td>{'k': 9, 's': 1.5}</td>\n",
       "      <td>0.004817</td>\n",
       "    </tr>\n",
       "    <tr>\n",
       "      <th>17</th>\n",
       "      <td>{'k': 9, 's': 2.5}</td>\n",
       "      <td>0.004848</td>\n",
       "    </tr>\n",
       "    <tr>\n",
       "      <th>18</th>\n",
       "      <td>{'k': 9, 's': 5.0}</td>\n",
       "      <td>0.004951</td>\n",
       "    </tr>\n",
       "    <tr>\n",
       "      <th>19</th>\n",
       "      <td>{'k': 9, 's': 10.0}</td>\n",
       "      <td>0.005247</td>\n",
       "    </tr>\n",
       "    <tr>\n",
       "      <th>20</th>\n",
       "      <td>{'k': 12, 's': 1.0}</td>\n",
       "      <td>0.004854</td>\n",
       "    </tr>\n",
       "    <tr>\n",
       "      <th>21</th>\n",
       "      <td>{'k': 12, 's': 1.5}</td>\n",
       "      <td>0.004855</td>\n",
       "    </tr>\n",
       "    <tr>\n",
       "      <th>22</th>\n",
       "      <td>{'k': 12, 's': 2.5}</td>\n",
       "      <td>0.004904</td>\n",
       "    </tr>\n",
       "    <tr>\n",
       "      <th>23</th>\n",
       "      <td>{'k': 12, 's': 5.0}</td>\n",
       "      <td>0.005104</td>\n",
       "    </tr>\n",
       "    <tr>\n",
       "      <th>24</th>\n",
       "      <td>{'k': 12, 's': 10.0}</td>\n",
       "      <td>0.005482</td>\n",
       "    </tr>\n",
       "    <tr>\n",
       "      <th>25</th>\n",
       "      <td>{'k': 15, 's': 1.0}</td>\n",
       "      <td>0.004877</td>\n",
       "    </tr>\n",
       "    <tr>\n",
       "      <th>26</th>\n",
       "      <td>{'k': 15, 's': 1.5}</td>\n",
       "      <td>0.004855</td>\n",
       "    </tr>\n",
       "    <tr>\n",
       "      <th>27</th>\n",
       "      <td>{'k': 15, 's': 2.5}</td>\n",
       "      <td>0.004941</td>\n",
       "    </tr>\n",
       "    <tr>\n",
       "      <th>28</th>\n",
       "      <td>{'k': 15, 's': 5.0}</td>\n",
       "      <td>0.005199</td>\n",
       "    </tr>\n",
       "    <tr>\n",
       "      <th>29</th>\n",
       "      <td>{'k': 15, 's': 10.0}</td>\n",
       "      <td>0.005635</td>\n",
       "    </tr>\n",
       "  </tbody>\n",
       "</table>\n",
       "</div>"
      ],
      "text/plain": [
       "                  Params  Mean out-of-bag Hamming loss\n",
       "0     {'k': 1, 's': 1.0}                      0.005997\n",
       "1     {'k': 1, 's': 1.5}                      0.005997\n",
       "2     {'k': 1, 's': 2.5}                      0.005990\n",
       "3     {'k': 1, 's': 5.0}                      0.005962\n",
       "4    {'k': 1, 's': 10.0}                      0.005912\n",
       "5     {'k': 3, 's': 1.0}                      0.004827\n",
       "6     {'k': 3, 's': 1.5}                      0.004790\n",
       "7     {'k': 3, 's': 2.5}                      0.004783\n",
       "8     {'k': 3, 's': 5.0}                      0.004793\n",
       "9    {'k': 3, 's': 10.0}                      0.004807\n",
       "10    {'k': 6, 's': 1.0}                      0.004752\n",
       "11    {'k': 6, 's': 1.5}                      0.004731\n",
       "12    {'k': 6, 's': 2.5}                      0.004705\n",
       "13    {'k': 6, 's': 5.0}                      0.004788\n",
       "14   {'k': 6, 's': 10.0}                      0.004951\n",
       "15    {'k': 9, 's': 1.0}                      0.004831\n",
       "16    {'k': 9, 's': 1.5}                      0.004817\n",
       "17    {'k': 9, 's': 2.5}                      0.004848\n",
       "18    {'k': 9, 's': 5.0}                      0.004951\n",
       "19   {'k': 9, 's': 10.0}                      0.005247\n",
       "20   {'k': 12, 's': 1.0}                      0.004854\n",
       "21   {'k': 12, 's': 1.5}                      0.004855\n",
       "22   {'k': 12, 's': 2.5}                      0.004904\n",
       "23   {'k': 12, 's': 5.0}                      0.005104\n",
       "24  {'k': 12, 's': 10.0}                      0.005482\n",
       "25   {'k': 15, 's': 1.0}                      0.004877\n",
       "26   {'k': 15, 's': 1.5}                      0.004855\n",
       "27   {'k': 15, 's': 2.5}                      0.004941\n",
       "28   {'k': 15, 's': 5.0}                      0.005199\n",
       "29  {'k': 15, 's': 10.0}                      0.005635"
      ]
     },
     "metadata": {},
     "output_type": "display_data"
    },
    {
     "name": "stdout",
     "output_type": "stream",
     "text": [
      "Best parameters: {'k': 6, 's': 2.5}, Best Hamming loss: 0.004705294016304963\n"
     ]
    }
   ],
   "source": [
    "best_index = np.argmin(clf.cv_results_[\"mean_test_score\"])\n",
    "best_parameters = clf.cv_results_[\"params\"][best_index]\n",
    "\n",
    "df_CV = pd.DataFrame(columns=[\"Params\", \"Mean out-of-bag Hamming loss\"])\n",
    "df_CV[\"Params\"] = clf.cv_results_[\"params\"]\n",
    "df_CV[ \"Mean out-of-bag Hamming loss\"] = clf.cv_results_[\"mean_test_score\"]\n",
    "display(df_CV)\n",
    "print(f\"Best parameters: {best_parameters}, Best Hamming loss: {np.min(clf.cv_results_['mean_test_score'])}\")\n",
    "\n",
    "#We can make a plot of this later. "
   ]
  },
  {
   "cell_type": "code",
   "execution_count": 29,
   "metadata": {},
   "outputs": [
    {
     "name": "stdout",
     "output_type": "stream",
     "text": [
      "Best parameters: The Hamming loss training data is  0.003\n",
      "Best parameters: The Hamming loss test data is  0.005\n",
      "Best parameters with threshold function learning: Hamming loss Test set is  0.006\n"
     ]
    }
   ],
   "source": [
    "## Threshold learning using the best parameters from the cross-validation with original threshold. \n",
    "classifier_best = MLkNN(k = best_parameters['k'], \n",
    "                        s = best_parameters['s'])\n",
    "#classifier_best.fit(X_sepPCs_train, Y_train)\n",
    "#Y_train_pred_best_array = classifier_best.predict(X_sepPCs_train).toarray()    # -- These 'predict()' steps can be time costly.\n",
    "#Y_test_pred_best_array = classifier_best.predict(X_sepPCs_test).toarray()         # Instead, load the predictions and learned \n",
    "                                                                                   # threshold function, below.\n",
    "npzfile = np.load(\"MLkNN_bestModel_preds.npz\", allow_pickle = True)\n",
    "Y_train_pred_best_array = npzfile[\"Y_train_pred_best_array\"]\n",
    "Y_test_pred_best_array = npzfile[\"Y_test_pred_best_array\"]\n",
    "Y_train_pred_proba_array = npzfile[\"Y_train_pred_proba_array\"]\n",
    "Y_test_pred_proba_array = npzfile[\"Y_test_pred_proba_array\"]\n",
    "\n",
    "threshold_function = load(\"learned_threshold_function.joblib\")\n",
    "\n",
    "best_params_validation_HL = metrics.hamming_loss(Y_test, Y_test_pred_best_array)\n",
    "\n",
    "print (f\"Best parameters: The Hamming loss training data is {metrics.hamming_loss(Y_train, Y_train_pred_best_array) : 0.3f}\")\n",
    "print (f\"Best parameters: The Hamming loss test data is {best_params_validation_HL : 0.3f}\")\n",
    "\n",
    "#Y_train_pred_proba_array = classifier_best.predict_proba(X_sepPCs_train).toarray()\n",
    "#Y_test_pred_proba_array = classifier_best.predict_proba(X_sepPCs_test).toarray()\n",
    "\n",
    "t_range = (0, 1)\n",
    "\n",
    "#test_labels_binary, threshold_function = predict_test_labels_binary(Y_train_pred_proba_array, Y_train, Y_test_pred_proba_array, t_range)\n",
    "test_labels_binary = predict_labels_binary(Y_test_pred_proba_array, threshold_function)\n",
    "best_params_validation_HL_withThreshold = metrics.hamming_loss(Y_test, test_labels_binary)\n",
    "\n",
    "print (f\"Best parameters with threshold function learning: Hamming loss Test set is {best_params_validation_HL_withThreshold : 0.3f}\")"
   ]
  },
  {
   "cell_type": "code",
   "execution_count": 23,
   "metadata": {},
   "outputs": [
    {
     "data": {
      "text/plain": [
       "['learned_threshold_function.joblib']"
      ]
     },
     "execution_count": 23,
     "metadata": {},
     "output_type": "execute_result"
    }
   ],
   "source": [
    "## (CAUTION: DO NOT OVERWRITE EXISTING FILES) -- Save the MLkNN based best model predictions with & without a learned threshold\n",
    "##                                               and save the learned threshold\n",
    "outfile = \"MLkNN_bestModel_preds.npz\"\n",
    "#np.savez_compressed(outfile, Y_train_pred_best_array = Y_train_pred_best_array,\n",
    "#                             Y_test_pred_best_array = Y_test_pred_best_array,\n",
    "#                             Y_train_pred_proba_array = Y_train_pred_proba_array,\n",
    "#                             Y_test_pred_proba_array = Y_test_pred_proba_array,\n",
    "#                             test_labels_binary = test_labels_binary)\n",
    "\n",
    "outfile = \"learned_threshold_function.joblib\"\n",
    "#dump(threshold_function, outfile, compress = 3) "
   ]
  },
  {
   "cell_type": "markdown",
   "metadata": {},
   "source": [
    "## ANN Autoencoder Features"
   ]
  },
  {
   "cell_type": "code",
   "execution_count": 32,
   "metadata": {},
   "outputs": [
    {
     "name": "stdout",
     "output_type": "stream",
     "text": [
      "The Hamming loss for the training data is 0.004\n",
      "The Hamming loss for the test data is 0.007\n"
     ]
    }
   ],
   "source": [
    "## Fit the ML-kNN model to the ANN autoencoder dataset and evaluate the train/test set hamming loss \n",
    "## (This can take some time -- Can read in predictions from 'MLkNN_based_preds_encoded' instead)\n",
    "classifier = MLkNN(k = 3)\n",
    "#classifier.fit(encoded_train, Y_train)\n",
    "#Y_train_pred = classifier.predict(encoded_train)\n",
    "#Y_train_pred_array = Y_train_pred.toarray()\n",
    "#Y_test_pred = classifier.predict(encoded_test)\n",
    "#Y_test_pred_array = Y_test_pred.toarray()\n",
    "\n",
    "npzfile = npzfile = np.load(\"MLkNN_based_preds_encoded.npz\", allow_pickle = True)\n",
    "Y_train_pred_array = npzfile[\"Y_train_pred_array\"]\n",
    "Y_test_pred_array = npzfile[\"Y_test_pred_array\"]\n",
    "\n",
    "print (f\"The Hamming loss for the training data is {metrics.hamming_loss(Y_train, Y_train_pred_array):.3f}\")\n",
    "print (f\"The Hamming loss for the test data is {metrics.hamming_loss(Y_test, Y_test_pred_array):.3f}\")"
   ]
  },
  {
   "cell_type": "code",
   "execution_count": 31,
   "metadata": {},
   "outputs": [],
   "source": [
    "## (CAUTION: DO NOT OVERWRITE EXISTING FILES) -- Save the ML-kNN based predictions\n",
    "outfile = \"MLkNN_based_preds_encoded.npz\"\n",
    "#np.savez_compressed(outfile, Y_train_pred_array = Y_train_pred_array,\n",
    "#                             Y_test_pred_array = Y_test_pred_array)"
   ]
  },
  {
   "cell_type": "code",
   "execution_count": 36,
   "metadata": {},
   "outputs": [],
   "source": [
    "%%capture\n",
    "## Perform cross-validation on a grid search to tune hyperparameters 'k' & 's'\n",
    "## (This can take a long time -- Load the fit GridSearch object instead)\n",
    "clf = load('clf_MLkNN_gridSearch_object_encoded.joblib')\n",
    "#k_list = list(range(3, 16, 3))\n",
    "#k_list.insert(0, 1)\n",
    "#parameters = {'k': k_list, 's': [1.0, 1.5, 2.5, 5.0, 10.0]}  \n",
    "#By default, the Hamming loss as an option is not provided in the scoring string options. So, we will make the Hamming loss funciton as a scorer and use that. \n",
    "#hamming_scorer = metrics.make_scorer(metrics.hamming_loss)\n",
    "\n",
    "#clf = GridSearchCV(MLkNN(), parameters, scoring = hamming_scorer, cv = 5, verbose = 1)\n",
    "#clf.fit(encoded_train, Y_train)"
   ]
  },
  {
   "cell_type": "code",
   "execution_count": 34,
   "metadata": {},
   "outputs": [
    {
     "data": {
      "text/plain": [
       "['clf_MLkNN_gridSearch_object_encoded.joblib']"
      ]
     },
     "execution_count": 34,
     "metadata": {},
     "output_type": "execute_result"
    }
   ],
   "source": [
    "## (CAUTION: DO NOT OVERWRITE EXISTING FILES) -- Save the kNN based grid search object\n",
    "outfile = \"clf_MLkNN_gridSearch_object_encoded.joblib\"\n",
    "#dump(clf, outfile, compress = 3) "
   ]
  },
  {
   "cell_type": "code",
   "execution_count": 37,
   "metadata": {
    "collapsed": true,
    "jupyter": {
     "outputs_hidden": true
    }
   },
   "outputs": [
    {
     "data": {
      "text/html": [
       "<div>\n",
       "<style scoped>\n",
       "    .dataframe tbody tr th:only-of-type {\n",
       "        vertical-align: middle;\n",
       "    }\n",
       "\n",
       "    .dataframe tbody tr th {\n",
       "        vertical-align: top;\n",
       "    }\n",
       "\n",
       "    .dataframe thead th {\n",
       "        text-align: right;\n",
       "    }\n",
       "</style>\n",
       "<table border=\"1\" class=\"dataframe\">\n",
       "  <thead>\n",
       "    <tr style=\"text-align: right;\">\n",
       "      <th></th>\n",
       "      <th>Params</th>\n",
       "      <th>Mean out-of-bag Hamming loss</th>\n",
       "    </tr>\n",
       "  </thead>\n",
       "  <tbody>\n",
       "    <tr>\n",
       "      <th>0</th>\n",
       "      <td>{'k': 1, 's': 1.0}</td>\n",
       "      <td>0.009810</td>\n",
       "    </tr>\n",
       "    <tr>\n",
       "      <th>1</th>\n",
       "      <td>{'k': 1, 's': 1.5}</td>\n",
       "      <td>0.009810</td>\n",
       "    </tr>\n",
       "    <tr>\n",
       "      <th>2</th>\n",
       "      <td>{'k': 1, 's': 2.5}</td>\n",
       "      <td>0.009798</td>\n",
       "    </tr>\n",
       "    <tr>\n",
       "      <th>3</th>\n",
       "      <td>{'k': 1, 's': 5.0}</td>\n",
       "      <td>0.009758</td>\n",
       "    </tr>\n",
       "    <tr>\n",
       "      <th>4</th>\n",
       "      <td>{'k': 1, 's': 10.0}</td>\n",
       "      <td>0.009695</td>\n",
       "    </tr>\n",
       "    <tr>\n",
       "      <th>5</th>\n",
       "      <td>{'k': 3, 's': 1.0}</td>\n",
       "      <td>0.007513</td>\n",
       "    </tr>\n",
       "    <tr>\n",
       "      <th>6</th>\n",
       "      <td>{'k': 3, 's': 1.5}</td>\n",
       "      <td>0.007504</td>\n",
       "    </tr>\n",
       "    <tr>\n",
       "      <th>7</th>\n",
       "      <td>{'k': 3, 's': 2.5}</td>\n",
       "      <td>0.007484</td>\n",
       "    </tr>\n",
       "    <tr>\n",
       "      <th>8</th>\n",
       "      <td>{'k': 3, 's': 5.0}</td>\n",
       "      <td>0.007453</td>\n",
       "    </tr>\n",
       "    <tr>\n",
       "      <th>9</th>\n",
       "      <td>{'k': 3, 's': 10.0}</td>\n",
       "      <td>0.007410</td>\n",
       "    </tr>\n",
       "    <tr>\n",
       "      <th>10</th>\n",
       "      <td>{'k': 6, 's': 1.0}</td>\n",
       "      <td>0.007235</td>\n",
       "    </tr>\n",
       "    <tr>\n",
       "      <th>11</th>\n",
       "      <td>{'k': 6, 's': 1.5}</td>\n",
       "      <td>0.007225</td>\n",
       "    </tr>\n",
       "    <tr>\n",
       "      <th>12</th>\n",
       "      <td>{'k': 6, 's': 2.5}</td>\n",
       "      <td>0.007185</td>\n",
       "    </tr>\n",
       "    <tr>\n",
       "      <th>13</th>\n",
       "      <td>{'k': 6, 's': 5.0}</td>\n",
       "      <td>0.007111</td>\n",
       "    </tr>\n",
       "    <tr>\n",
       "      <th>14</th>\n",
       "      <td>{'k': 6, 's': 10.0}</td>\n",
       "      <td>0.007151</td>\n",
       "    </tr>\n",
       "    <tr>\n",
       "      <th>15</th>\n",
       "      <td>{'k': 9, 's': 1.0}</td>\n",
       "      <td>0.007149</td>\n",
       "    </tr>\n",
       "    <tr>\n",
       "      <th>16</th>\n",
       "      <td>{'k': 9, 's': 1.5}</td>\n",
       "      <td>0.007128</td>\n",
       "    </tr>\n",
       "    <tr>\n",
       "      <th>17</th>\n",
       "      <td>{'k': 9, 's': 2.5}</td>\n",
       "      <td>0.007101</td>\n",
       "    </tr>\n",
       "    <tr>\n",
       "      <th>18</th>\n",
       "      <td>{'k': 9, 's': 5.0}</td>\n",
       "      <td>0.007134</td>\n",
       "    </tr>\n",
       "    <tr>\n",
       "      <th>19</th>\n",
       "      <td>{'k': 9, 's': 10.0}</td>\n",
       "      <td>0.007237</td>\n",
       "    </tr>\n",
       "    <tr>\n",
       "      <th>20</th>\n",
       "      <td>{'k': 12, 's': 1.0}</td>\n",
       "      <td>0.007198</td>\n",
       "    </tr>\n",
       "    <tr>\n",
       "      <th>21</th>\n",
       "      <td>{'k': 12, 's': 1.5}</td>\n",
       "      <td>0.007169</td>\n",
       "    </tr>\n",
       "    <tr>\n",
       "      <th>22</th>\n",
       "      <td>{'k': 12, 's': 2.5}</td>\n",
       "      <td>0.007167</td>\n",
       "    </tr>\n",
       "    <tr>\n",
       "      <th>23</th>\n",
       "      <td>{'k': 12, 's': 5.0}</td>\n",
       "      <td>0.007161</td>\n",
       "    </tr>\n",
       "    <tr>\n",
       "      <th>24</th>\n",
       "      <td>{'k': 12, 's': 10.0}</td>\n",
       "      <td>0.007330</td>\n",
       "    </tr>\n",
       "    <tr>\n",
       "      <th>25</th>\n",
       "      <td>{'k': 15, 's': 1.0}</td>\n",
       "      <td>0.007232</td>\n",
       "    </tr>\n",
       "    <tr>\n",
       "      <th>26</th>\n",
       "      <td>{'k': 15, 's': 1.5}</td>\n",
       "      <td>0.007225</td>\n",
       "    </tr>\n",
       "    <tr>\n",
       "      <th>27</th>\n",
       "      <td>{'k': 15, 's': 2.5}</td>\n",
       "      <td>0.007237</td>\n",
       "    </tr>\n",
       "    <tr>\n",
       "      <th>28</th>\n",
       "      <td>{'k': 15, 's': 5.0}</td>\n",
       "      <td>0.007335</td>\n",
       "    </tr>\n",
       "    <tr>\n",
       "      <th>29</th>\n",
       "      <td>{'k': 15, 's': 10.0}</td>\n",
       "      <td>0.007458</td>\n",
       "    </tr>\n",
       "  </tbody>\n",
       "</table>\n",
       "</div>"
      ],
      "text/plain": [
       "                  Params  Mean out-of-bag Hamming loss\n",
       "0     {'k': 1, 's': 1.0}                      0.009810\n",
       "1     {'k': 1, 's': 1.5}                      0.009810\n",
       "2     {'k': 1, 's': 2.5}                      0.009798\n",
       "3     {'k': 1, 's': 5.0}                      0.009758\n",
       "4    {'k': 1, 's': 10.0}                      0.009695\n",
       "5     {'k': 3, 's': 1.0}                      0.007513\n",
       "6     {'k': 3, 's': 1.5}                      0.007504\n",
       "7     {'k': 3, 's': 2.5}                      0.007484\n",
       "8     {'k': 3, 's': 5.0}                      0.007453\n",
       "9    {'k': 3, 's': 10.0}                      0.007410\n",
       "10    {'k': 6, 's': 1.0}                      0.007235\n",
       "11    {'k': 6, 's': 1.5}                      0.007225\n",
       "12    {'k': 6, 's': 2.5}                      0.007185\n",
       "13    {'k': 6, 's': 5.0}                      0.007111\n",
       "14   {'k': 6, 's': 10.0}                      0.007151\n",
       "15    {'k': 9, 's': 1.0}                      0.007149\n",
       "16    {'k': 9, 's': 1.5}                      0.007128\n",
       "17    {'k': 9, 's': 2.5}                      0.007101\n",
       "18    {'k': 9, 's': 5.0}                      0.007134\n",
       "19   {'k': 9, 's': 10.0}                      0.007237\n",
       "20   {'k': 12, 's': 1.0}                      0.007198\n",
       "21   {'k': 12, 's': 1.5}                      0.007169\n",
       "22   {'k': 12, 's': 2.5}                      0.007167\n",
       "23   {'k': 12, 's': 5.0}                      0.007161\n",
       "24  {'k': 12, 's': 10.0}                      0.007330\n",
       "25   {'k': 15, 's': 1.0}                      0.007232\n",
       "26   {'k': 15, 's': 1.5}                      0.007225\n",
       "27   {'k': 15, 's': 2.5}                      0.007237\n",
       "28   {'k': 15, 's': 5.0}                      0.007335\n",
       "29  {'k': 15, 's': 10.0}                      0.007458"
      ]
     },
     "metadata": {},
     "output_type": "display_data"
    },
    {
     "name": "stdout",
     "output_type": "stream",
     "text": [
      "Best parameters: {'k': 9, 's': 2.5}, Best Hamming loss: 0.0071007987105862185\n"
     ]
    }
   ],
   "source": [
    "best_index = np.argmin(clf.cv_results_[\"mean_test_score\"])\n",
    "best_parameters = clf.cv_results_[\"params\"][best_index]\n",
    "\n",
    "df_CV = pd.DataFrame(columns=[\"Params\", \"Mean out-of-bag Hamming loss\"])\n",
    "df_CV[\"Params\"] = clf.cv_results_[\"params\"]\n",
    "df_CV[ \"Mean out-of-bag Hamming loss\"] = clf.cv_results_[\"mean_test_score\"]\n",
    "display(df_CV)\n",
    "print(f\"Best parameters: {best_parameters}, Best Hamming loss: {np.min(clf.cv_results_['mean_test_score'])}\")\n",
    "\n",
    "#We can make a plot of this later. "
   ]
  },
  {
   "cell_type": "code",
   "execution_count": 40,
   "metadata": {},
   "outputs": [
    {
     "name": "stdout",
     "output_type": "stream",
     "text": [
      "Best parameters: The Hamming loss training data is  0.006\n",
      "Best parameters: The Hamming loss test data is  0.007\n",
      "Best parameters with threshold function learning: Hamming loss Test set is  0.008\n"
     ]
    }
   ],
   "source": [
    "## Threshold learning using the best parameters from the cross-validation with original threshold. \n",
    "classifier_best = MLkNN(k = best_parameters['k'], \n",
    "                        s = best_parameters['s'])\n",
    "#classifier_best.fit(encoded_train, Y_train)\n",
    "#Y_train_pred_best_array = classifier_best.predict(encoded_train).toarray()    # -- These 'predict()' steps can be time costly.            \n",
    "#Y_test_pred_best_array = classifier_best.predict(encoded_test).toarray()   # Instead, load the predictions and learned \n",
    "                                                                           # threshold function, below.\n",
    "npzfile = np.load(\"MLkNN_bestModel_preds_encoded.npz\", allow_pickle = True)\n",
    "Y_train_pred_best_array = npzfile[\"Y_train_pred_best_array\"]\n",
    "Y_test_pred_best_array = npzfile[\"Y_test_pred_best_array\"]\n",
    "Y_train_pred_proba_array = npzfile[\"Y_train_pred_proba_array\"]\n",
    "Y_test_pred_proba_array = npzfile[\"Y_test_pred_proba_array\"]\n",
    "\n",
    "threshold_function = load(\"learned_threshold_function_encoded.joblib\")\n",
    "\n",
    "best_params_validation_HL_encoded = metrics.hamming_loss(Y_test, Y_test_pred_best_array)\n",
    "\n",
    "print (f\"Best parameters: The Hamming loss training data is {metrics.hamming_loss(Y_train, Y_train_pred_best_array) : 0.3f}\")\n",
    "print (f\"Best parameters: The Hamming loss test data is {best_params_validation_HL_encoded : 0.3f}\")\n",
    "\n",
    "#Y_train_pred_proba_array = classifier_best.predict_proba(encoded_train).toarray()\n",
    "#Y_test_pred_proba_array = classifier_best.predict_proba(encoded_test).toarray()\n",
    "\n",
    "t_range = (0, 1)\n",
    "\n",
    "#test_labels_binary, threshold_function = predict_test_labels_binary(Y_train_pred_proba_array, Y_train, Y_test_pred_proba_array, t_range)\n",
    "test_labels_binary = predict_labels_binary(Y_test_pred_proba_array, threshold_function)\n",
    "best_params_validation_HL_withThreshold_encoded = metrics.hamming_loss(Y_test, test_labels_binary)\n",
    "\n",
    "print (f\"Best parameters with threshold function learning: Hamming loss Test set is {best_params_validation_HL_withThreshold_encoded : 0.3f}\")"
   ]
  },
  {
   "cell_type": "code",
   "execution_count": 39,
   "metadata": {},
   "outputs": [
    {
     "data": {
      "text/plain": [
       "['learned_threshold_function_encoded.joblib']"
      ]
     },
     "execution_count": 39,
     "metadata": {},
     "output_type": "execute_result"
    }
   ],
   "source": [
    "## (CAUTION: DO NOT OVERWRITE EXISTING FILES) -- Save the MLkNN based best model predictions with & without a learned threshold\n",
    "##                                               and save the learned threshold\n",
    "outfile = \"MLkNN_bestModel_preds_encoded.npz\"\n",
    "#np.savez_compressed(outfile, Y_train_pred_best_array = Y_train_pred_best_array,\n",
    "#                             Y_test_pred_best_array = Y_test_pred_best_array,\n",
    "#                             Y_train_pred_proba_array = Y_train_pred_proba_array,\n",
    "#                             Y_test_pred_proba_array = Y_test_pred_proba_array,\n",
    "#                             test_labels_binary = test_labels_binary)\n",
    "\n",
    "outfile = \"learned_threshold_function_encoded.joblib\"\n",
    "#dump(threshold_function, outfile, compress = 3) "
   ]
  },
  {
   "cell_type": "markdown",
   "metadata": {},
   "source": [
    "## Results"
   ]
  },
  {
   "cell_type": "code",
   "execution_count": 42,
   "metadata": {},
   "outputs": [
    {
     "data": {
      "text/html": [
       "<div>\n",
       "<style scoped>\n",
       "    .dataframe tbody tr th:only-of-type {\n",
       "        vertical-align: middle;\n",
       "    }\n",
       "\n",
       "    .dataframe tbody tr th {\n",
       "        vertical-align: top;\n",
       "    }\n",
       "\n",
       "    .dataframe thead th {\n",
       "        text-align: right;\n",
       "    }\n",
       "</style>\n",
       "<table border=\"1\" class=\"dataframe\">\n",
       "  <thead>\n",
       "    <tr style=\"text-align: right;\">\n",
       "      <th></th>\n",
       "      <th>PCA</th>\n",
       "      <th>Autoencoder</th>\n",
       "    </tr>\n",
       "  </thead>\n",
       "  <tbody>\n",
       "    <tr>\n",
       "      <th>Constant Threshold</th>\n",
       "      <td>0.005234</td>\n",
       "      <td>0.007107</td>\n",
       "    </tr>\n",
       "    <tr>\n",
       "      <th>Learned Threshold</th>\n",
       "      <td>0.006378</td>\n",
       "      <td>0.007817</td>\n",
       "    </tr>\n",
       "  </tbody>\n",
       "</table>\n",
       "</div>"
      ],
      "text/plain": [
       "                         PCA  Autoencoder\n",
       "Constant Threshold  0.005234     0.007107\n",
       "Learned Threshold   0.006378     0.007817"
      ]
     },
     "execution_count": 42,
     "metadata": {},
     "output_type": "execute_result"
    }
   ],
   "source": [
    "## (CAUTION: DO NOT OVERWRITE EXISTING FILES) -- Display the validation HL results and save as a .json file\n",
    "results_df = pd.DataFrame({'PCA' : [best_params_validation_HL, best_params_validation_HL_withThreshold],\n",
    "                           'Autoencoder' : [best_params_validation_HL_encoded, best_params_validation_HL_withThreshold_encoded]}, \n",
    "                          index = ['Constant Threshold', 'Learned Threshold'])\n",
    "#results_df.to_json('MLkNN_results.json')\n",
    "results_df"
   ]
  }
 ],
 "metadata": {
  "kernelspec": {
   "display_name": "Python 3",
   "language": "python",
   "name": "python3"
  },
  "language_info": {
   "codemirror_mode": {
    "name": "ipython",
    "version": 3
   },
   "file_extension": ".py",
   "mimetype": "text/x-python",
   "name": "python",
   "nbconvert_exporter": "python",
   "pygments_lexer": "ipython3",
   "version": "3.8.5"
  }
 },
 "nbformat": 4,
 "nbformat_minor": 4
}
