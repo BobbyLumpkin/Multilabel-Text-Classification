{
 "cells": [
  {
   "cell_type": "code",
   "execution_count": null,
   "metadata": {},
   "outputs": [],
   "source": [
    "########################################################################################################################\n",
    "# Filename: RNN_Models.ipynb\n",
    "#\n",
    "# Purpose: Multi-label Text-categorization via recurrent neural networks\n",
    "\n",
    "# Author(s): Bobby (Robert) Lumpkin\n",
    "#\n",
    "# Library Dependencies: numpy, pandas, scikit-learn, skmultilearn, joblib, os, sys, threshold_learning\n",
    "########################################################################################################################"
   ]
  },
  {
   "cell_type": "markdown",
   "metadata": {},
   "source": [
    "# Multilabel Text Classification with Recurrent Neural Networks"
   ]
  },
  {
   "cell_type": "code",
   "execution_count": 1,
   "metadata": {},
   "outputs": [],
   "source": [
    "import numpy as np\n",
    "import pandas as pd\n",
    "import math\n",
    "import os\n",
    "import json\n",
    "import ast\n",
    "import random\n",
    "from joblib import dump, load\n",
    "import tensorflow as tf\n",
    "import tensorflow_addons as tfa\n",
    "from tensorflow.keras.models import Sequential\n",
    "from tensorflow.keras.layers import Dense\n",
    "from tensorflow.keras.layers import Dropout\n",
    "from tensorflow.keras.wrappers.scikit_learn import KerasClassifier\n",
    "from sklearn.model_selection import GridSearchCV\n",
    "from bpmll import bp_mll_loss\n",
    "import sklearn_json as skljson\n",
    "from sklearn.model_selection import train_test_split\n",
    "from sklearn import metrics\n",
    "import matplotlib.pyplot as plt\n",
    "import sys\n",
    "os.chdir('C:\\\\Users\\\\rober\\\\OneDrive\\\\Documents\\\\Multilabel-Text-Classification\\\\Deep Learning Models\\\\RNN Models')  ## Set working directory\n",
    "                                                                                                                      ## to be 'ANN Results'\n",
    "sys.path.append('../../ThresholdFunctionLearning')    ## Append path to the ThresholdFunctionLearning directory to the interpreters\n",
    "                                                   ## search path\n",
    "from threshold_learning import predict_test_labels_binary    ## Import the 'predict_test_labels_binary()' function from the \n",
    "from threshold_learning import predict_labels_binary         ## threshold_learning library\n",
    "sys.path.append('GridSearchAid_FFNetworks')\n",
    "from FFNN_gridSearch_aid import SizeLayersPows2, createModel"
   ]
  },
  {
   "cell_type": "code",
   "execution_count": 16,
   "metadata": {},
   "outputs": [],
   "source": [
    "## Load the seperabe PCs training and test data\n",
    "npzfile = np.load(\"../../Data/seq_trainTest_data.npz\")\n",
    "X_train_padded = npzfile['train_padded']\n",
    "X_test_padded = npzfile['test_padded']\n",
    "Y_train = npzfile['Y_train'].astype('float64')\n",
    "Y_test = npzfile['Y_test'].astype('float64')\n",
    "num_unique_words = npzfile['num_unique_words']"
   ]
  },
  {
   "cell_type": "markdown",
   "metadata": {},
   "source": [
    "# Cross Entropy Models -- Traditional (\"Naive\") Approach"
   ]
  },
  {
   "cell_type": "code",
   "execution_count": 17,
   "metadata": {},
   "outputs": [],
   "source": [
    "## Define the LSTM RNN architecture\n",
    "num_labels = Y_train.shape[1]\n",
    "\n",
    "model_biLSTM = tf.keras.models.Sequential([\n",
    "    tf.keras.layers.Embedding(num_unique_words, 32, input_length = X_train_padded.shape[1]),\n",
    "    tf.keras.layers.Bidirectional(tf.keras.layers.LSTM(16, return_sequences = False, return_state = False)),\n",
    "    #tf.keras.layers.Dropout(0.5),\n",
    "    tf.keras.layers.Dense(num_labels, activation = 'sigmoid')\n",
    "])\n",
    "\n",
    "optim = tf.keras.optimizers.Adam(lr=0.01)\n",
    "#optim = tf.keras.optimizers.Adagrad(\n",
    "#    learning_rate = 0.001, initial_accumulator_value = 0.1, epsilon = 1e-07,\n",
    "#    name = 'Adagrad')\n",
    "\n",
    "#optim = tf.keras.optimizers.RMSprop(learning_rate=0.001, rho=0.9, momentum = 0.8, epsilon=1e-07,)\n",
    "\n",
    "metric = tfa.metrics.HammingLoss(mode = 'multilabel', threshold = 0.5)\n",
    "model_biLSTM.compile(loss = 'binary_crossentropy', optimizer = optim, metrics = metric)"
   ]
  },
  {
   "cell_type": "code",
   "execution_count": 18,
   "metadata": {},
   "outputs": [
    {
     "name": "stdout",
     "output_type": "stream",
     "text": [
      "Epoch 1/30\n",
      "243/243 - 102s - loss: 0.0701 - hamming_loss: 0.0176 - val_loss: 0.0459 - val_hamming_loss: 0.0129\n",
      "Epoch 2/30\n",
      "243/243 - 123s - loss: 0.0407 - hamming_loss: 0.0114 - val_loss: 0.0385 - val_hamming_loss: 0.0108\n",
      "Epoch 3/30\n",
      "243/243 - 159s - loss: 0.0305 - hamming_loss: 0.0080 - val_loss: 0.0316 - val_hamming_loss: 0.0082\n",
      "Epoch 4/30\n",
      "243/243 - 178s - loss: 0.0247 - hamming_loss: 0.0068 - val_loss: 0.0281 - val_hamming_loss: 0.0076\n",
      "Epoch 5/30\n",
      "243/243 - 180s - loss: 0.0211 - hamming_loss: 0.0060 - val_loss: 0.0257 - val_hamming_loss: 0.0070\n",
      "Epoch 6/30\n",
      "243/243 - 179s - loss: 0.0174 - hamming_loss: 0.0051 - val_loss: 0.0231 - val_hamming_loss: 0.0062\n",
      "Epoch 7/30\n",
      "243/243 - 154s - loss: 0.0146 - hamming_loss: 0.0044 - val_loss: 0.0221 - val_hamming_loss: 0.0061\n",
      "Epoch 8/30\n",
      "243/243 - 95s - loss: 0.0121 - hamming_loss: 0.0036 - val_loss: 0.0223 - val_hamming_loss: 0.0058\n",
      "Epoch 9/30\n",
      "243/243 - 90s - loss: 0.0104 - hamming_loss: 0.0031 - val_loss: 0.0228 - val_hamming_loss: 0.0058\n",
      "Epoch 10/30\n",
      "243/243 - 88s - loss: 0.0093 - hamming_loss: 0.0027 - val_loss: 0.0229 - val_hamming_loss: 0.0057\n",
      "Epoch 11/30\n",
      "243/243 - 89s - loss: 0.0079 - hamming_loss: 0.0024 - val_loss: 0.0231 - val_hamming_loss: 0.0056\n",
      "Epoch 12/30\n",
      "243/243 - 87s - loss: 0.0069 - hamming_loss: 0.0021 - val_loss: 0.0234 - val_hamming_loss: 0.0055\n",
      "Epoch 13/30\n",
      "243/243 - 93s - loss: 0.0063 - hamming_loss: 0.0019 - val_loss: 0.0237 - val_hamming_loss: 0.0056\n",
      "Epoch 14/30\n",
      "243/243 - 87s - loss: 0.0055 - hamming_loss: 0.0016 - val_loss: 0.0262 - val_hamming_loss: 0.0059\n",
      "Epoch 15/30\n",
      "243/243 - 87s - loss: 0.0049 - hamming_loss: 0.0015 - val_loss: 0.0250 - val_hamming_loss: 0.0055\n",
      "Epoch 16/30\n",
      "243/243 - 89s - loss: 0.0045 - hamming_loss: 0.0014 - val_loss: 0.0266 - val_hamming_loss: 0.0056\n",
      "Epoch 17/30\n",
      "243/243 - 85s - loss: 0.0044 - hamming_loss: 0.0013 - val_loss: 0.0271 - val_hamming_loss: 0.0056\n",
      "Epoch 18/30\n",
      "243/243 - 92s - loss: 0.0038 - hamming_loss: 0.0012 - val_loss: 0.0270 - val_hamming_loss: 0.0059\n",
      "Epoch 19/30\n",
      "243/243 - 86s - loss: 0.0034 - hamming_loss: 0.0010 - val_loss: 0.0290 - val_hamming_loss: 0.0056\n",
      "Epoch 20/30\n",
      "243/243 - 87s - loss: 0.0030 - hamming_loss: 9.2533e-04 - val_loss: 0.0284 - val_hamming_loss: 0.0056\n",
      "Epoch 21/30\n",
      "243/243 - 95s - loss: 0.0027 - hamming_loss: 8.1235e-04 - val_loss: 0.0295 - val_hamming_loss: 0.0056\n",
      "Epoch 22/30\n",
      "243/243 - 96s - loss: 0.0025 - hamming_loss: 7.3941e-04 - val_loss: 0.0305 - val_hamming_loss: 0.0056\n",
      "Epoch 23/30\n",
      "243/243 - 97s - loss: 0.0024 - hamming_loss: 6.9221e-04 - val_loss: 0.0311 - val_hamming_loss: 0.0058\n",
      "Epoch 24/30\n",
      "243/243 - 94s - loss: 0.0024 - hamming_loss: 7.1223e-04 - val_loss: 0.0315 - val_hamming_loss: 0.0059\n",
      "Epoch 25/30\n",
      "243/243 - 94s - loss: 0.0023 - hamming_loss: 6.9936e-04 - val_loss: 0.0330 - val_hamming_loss: 0.0059\n",
      "Epoch 26/30\n",
      "243/243 - 95s - loss: 0.0022 - hamming_loss: 6.5646e-04 - val_loss: 0.0326 - val_hamming_loss: 0.0058\n",
      "Epoch 27/30\n",
      "243/243 - 92s - loss: 0.0020 - hamming_loss: 6.1355e-04 - val_loss: 0.0344 - val_hamming_loss: 0.0060\n",
      "Epoch 28/30\n",
      "243/243 - 95s - loss: 0.0019 - hamming_loss: 5.4633e-04 - val_loss: 0.0345 - val_hamming_loss: 0.0059\n",
      "Epoch 29/30\n",
      "243/243 - 94s - loss: 0.0017 - hamming_loss: 4.9484e-04 - val_loss: 0.0357 - val_hamming_loss: 0.0060\n",
      "Epoch 30/30\n",
      "243/243 - 96s - loss: 0.0015 - hamming_loss: 4.1761e-04 - val_loss: 0.0358 - val_hamming_loss: 0.0060\n"
     ]
    },
    {
     "data": {
      "text/plain": [
       "<tensorflow.python.keras.callbacks.History at 0x215e6859e20>"
      ]
     },
     "execution_count": 18,
     "metadata": {},
     "output_type": "execute_result"
    }
   ],
   "source": [
    "tf.random.set_seed(123)\n",
    "model_biLSTM.fit(X_train_padded, Y_train, epochs = 30, validation_data = (X_test_padded, Y_test), verbose=2)"
   ]
  },
  {
   "cell_type": "code",
   "execution_count": 19,
   "metadata": {},
   "outputs": [],
   "source": [
    "## (CAUTION: DO NOT OVERWRITE EXISTING FILES) -- Convert training history to dataframe and write to a .json file \n",
    "outfile = \"Training Histories/history_ce_RNN_lr001.npz\" \n",
    "#np.savez_compressed(outfile, history_biLSTM001 = history_biLSTM001)\n",
    "\n",
    "#model_biLSTM.save_weights('Models/biLSTM_ce_001')"
   ]
  }
 ],
 "metadata": {
  "kernelspec": {
   "display_name": "Python 3",
   "language": "python",
   "name": "python3"
  },
  "language_info": {
   "codemirror_mode": {
    "name": "ipython",
    "version": 3
   },
   "file_extension": ".py",
   "mimetype": "text/x-python",
   "name": "python",
   "nbconvert_exporter": "python",
   "pygments_lexer": "ipython3",
   "version": "3.8.5"
  }
 },
 "nbformat": 4,
 "nbformat_minor": 4
}
